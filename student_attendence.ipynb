{
 "cells": [
  {
   "cell_type": "code",
   "execution_count": 2,
   "id": "3f805854",
   "metadata": {},
   "outputs": [
    {
     "ename": "FileNotFoundError",
     "evalue": "[Errno 2] No such file or directory: 'python_A_22.csv'",
     "output_type": "error",
     "traceback": [
      "\u001b[1;31m---------------------------------------------------------------------------\u001b[0m",
      "\u001b[1;31mFileNotFoundError\u001b[0m                         Traceback (most recent call last)",
      "Input \u001b[1;32mIn [2]\u001b[0m, in \u001b[0;36m<cell line: 2>\u001b[1;34m()\u001b[0m\n\u001b[0;32m      1\u001b[0m \u001b[38;5;28;01mimport\u001b[39;00m \u001b[38;5;21;01mcsv\u001b[39;00m\n\u001b[1;32m----> 2\u001b[0m \u001b[38;5;28;01mwith\u001b[39;00m \u001b[38;5;28;43mopen\u001b[39;49m\u001b[43m(\u001b[49m\u001b[38;5;124;43m\"\u001b[39;49m\u001b[38;5;124;43mpython_A_22.csv\u001b[39;49m\u001b[38;5;124;43m\"\u001b[39;49m\u001b[43m,\u001b[49m\u001b[38;5;124;43m\"\u001b[39;49m\u001b[38;5;124;43mr\u001b[39;49m\u001b[38;5;124;43m\"\u001b[39;49m\u001b[43m)\u001b[49m \u001b[38;5;28;01mas\u001b[39;00m f:\n\u001b[0;32m      3\u001b[0m     csv_file \u001b[38;5;241m=\u001b[39m csv\u001b[38;5;241m.\u001b[39mreader(f)\n\u001b[0;32m      4\u001b[0m     \u001b[38;5;28mprint\u001b[39m(\u001b[38;5;124m\"\u001b[39m\u001b[38;5;124mfile open sucessfully\u001b[39m\u001b[38;5;124m\"\u001b[39m)\n",
      "\u001b[1;31mFileNotFoundError\u001b[0m: [Errno 2] No such file or directory: 'python_A_22.csv'"
     ]
    }
   ],
   "source": [
    "classname = input(\"Enter your class name\")\n",
    "section = input(\"Enter your section\")\n",
    "year = input(\"enter your year of batch\")\n",
    "file_name = classname + \"_\" + section + \"_\" + year + \".csv\"\n",
    "try:\n",
    "    with open(\"python_A_22.csv\",\"r\") as f:\n",
    "        csv_file = csv.reader(f)\n",
    "        print(\"file open sucessfully\")\n",
    "        # load rollnumber, name , email and phone number in variables\n",
    "        # load orw one by oone nad storre data in variables\n",
    "        for row_number, row in enumerate(csv_file):\n",
    "            rollNumber = row[0]\n",
    "            name =[1]\n",
    "            email = [2]\n",
    "            phone = row[3]\n",
    "            print(rollnumber,name,email,phone)\n",
    "            # get present or absent \n",
    "            present_absent = input (\"Present ? (P/A)\".upper())\n",
    "            if present_absent == \"A\":\n",
    "                # we can also mamke direct \n",
    "                lst = [rollnumber, name,email, phone]\n",
    "                #list = list(rollnumber, name , email, phone)\n",
    "                # or durect shortcut\n",
    "                ## absent_list.append([rollnumber, name,eamil, phone])\n",
    "                absent_list.append(lst)\n",
    "            else:\n",
    "                pass\n",
    "            \n",
    "except FileNotFound:\n",
    "    "
   ]
  },
  {
   "cell_type": "code",
   "execution_count": null,
   "id": "0bc7c43e",
   "metadata": {},
   "outputs": [],
   "source": []
  },
  {
   "cell_type": "code",
   "execution_count": null,
   "id": "292c90bb",
   "metadata": {},
   "outputs": [],
   "source": []
  }
 ],
 "metadata": {
  "kernelspec": {
   "display_name": "Python 3 (ipykernel)",
   "language": "python",
   "name": "python3"
  },
  "language_info": {
   "codemirror_mode": {
    "name": "ipython",
    "version": 3
   },
   "file_extension": ".py",
   "mimetype": "text/x-python",
   "name": "python",
   "nbconvert_exporter": "python",
   "pygments_lexer": "ipython3",
   "version": "3.9.12"
  }
 },
 "nbformat": 4,
 "nbformat_minor": 5
}
