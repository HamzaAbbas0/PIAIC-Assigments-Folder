{
 "cells": [
  {
   "cell_type": "markdown",
   "id": "ce8c8f07",
   "metadata": {},
   "source": [
    "# Grand Work of Dictionary"
   ]
  },
  {
   "cell_type": "code",
   "execution_count": 4,
   "id": "bbba0b3d",
   "metadata": {},
   "outputs": [
    {
     "name": "stdout",
     "output_type": "stream",
     "text": [
      "Please Enter the student id1001\n",
      "Please Enter your class ai or cncai\n",
      "which result you looking for quiz1 ,quiz2 , mid , finalfinal\n",
      "Marks of student  hamza In Class marks_ai final he got the number  85\n"
     ]
    }
   ],
   "source": [
    "class1={\"name\":\"AI\",\n",
    "       }\n",
    "class2={\"name\":\"CNC\"\n",
    "       }\n",
    "students = {\n",
    "\"student_1001\" : {\n",
    "        \"name\" : \"hamza\",\n",
    "        \"class_ai\" : class1,\n",
    "    \"marks_ai\" : {\n",
    "            \"quiz1\" : 90,\n",
    "            \"quiz2\" : 95,\n",
    "            \"mid\" : 80,\n",
    "            \"final\" : 85    \n",
    "        },\n",
    "        \"class_cnc\" : class2,\n",
    "    \"marks_cnc\":\n",
    "        {\n",
    "            \"quiz1\" : 40,\n",
    "            \"quiz2\" : 45,\n",
    "            \"mid\" : 50,\n",
    "            \"final\" : 55    \n",
    "        }\n",
    "},\n",
    "\"student_1002\" : {\n",
    "        \"name\" : \"babar\",\n",
    "        \"class_ai\" : class1, \"marks_ai\" : {\n",
    "            \"quiz1\" : 90,\n",
    "            \"quiz2\" : 95,\n",
    "            \"mid\" : 80,\n",
    "            \"final\" : 85    \n",
    "        },\n",
    "        \"class_cnc\" : class2,\n",
    "        \"marks_cnc\":\n",
    "        {\n",
    "            \"quiz1\" : 41,\n",
    "            \"quiz2\" : 46,\n",
    "            \"mid\" : 51,\n",
    "            \"final\" : 56           \n",
    "        }\n",
    "},\n",
    "\"student_1003\" : {\"name\" : \"waqar\", \"class_ai\" : class1, \"marks_ai\":{\"quiz1\" : 42, \"quiz2\" : 48, \"mid\" : 53,\n",
    "            \"final\" : 58}, \"class_cnc\" : class2, \"marks_cnc\":{\"quiz1\" : 42, \"quiz2\" : 48, \"mid\" : 53,\n",
    "            \"final\" : 58}},\n",
    "\"student_1004\" : {\"name\" : \"zakir\", \"class_ai\" : class1,\"marks_ai\":{\"quiz1\" : 42, \"quiz2\" : 48, \"mid\" : 53,\n",
    "            \"final\" : 58}, \"class_cnc\" : class2, \"marks_cnc\":{\"quiz1\" : 43, \"quiz2\" : 49, \"mid\" : 54,\n",
    "            \"final\" : 59}},\n",
    "\"student_1005\" : {\"name\" : \"hussain\", \"class_ai\" : class1,\"marks_ai\":{\"quiz1\" : 42, \"quiz2\" : 48, \"mid\" : 53,\n",
    "            \"final\" : 58}, \"class_cnc\" : class2, \"marks_cnc\":{\"quiz1\" : 44, \"quiz2\" : 50, \"mid\" : 55,\n",
    "            \"final\" : 60}},\n",
    "\"student_1006\" : {\"name\" : \"hasnain\", \"class_ai\" : class1,\"marks_ai\":{\"quiz1\" : 42, \"quiz2\" : 48, \"mid\" : 53,\n",
    "            \"final\" : 58}, \"class_cnc\" : class2, \"marks_cnc\":{\"quiz1\" : 45, \"quiz2\" : 51, \"mid\" : 56,\n",
    "            \"final\" : 61}},\n",
    "\"student_1007\" : {\"name\" : \"javed\", \"class_ai\" : class1,\"marks_ai\":{\"quiz1\" : 42, \"quiz2\" : 48, \"mid\" : 53,\n",
    "            \"final\" : 58}, \"class_cnc\" : class2, \"marks_cnc\":{\"quiz1\" : 46, \"quiz2\" : 52, \"mid\" : 57,\n",
    "            \"final\" : 62}},\n",
    "\"student_1008\" : {\"name\" : \"jawwad\", \"class_ai\" : class1,\"marks_ai\":{\"quiz1\" : 42, \"quiz2\" : 48, \"mid\" : 53,\n",
    "            \"final\" : 58}, \"class_cnc\" : class2, \"marks_cnc\":{\"quiz1\" : 47, \"quiz2\" : 53, \"mid\" : 58,\n",
    "            \"final\" : 63}},\n",
    "\"student_1009\" : {\"name\" : \"aftab\", \"class_ai\" : class1,\"marks_ai\":{\"quiz1\" : 42, \"quiz2\" : 48, \"mid\" : 53,\n",
    "            \"final\" : 58}, \"class_cnc\" : class2, \"marks_cnc\":{\"quiz1\" : 48, \"quiz2\" : 54, \"mid\" : 59,\n",
    "            \"final\" : 64}},\n",
    "\"student_1010\" : {\n",
    "    \"name\" : \"iqbal\",\n",
    "    \"class_ai\"  : class1,\n",
    "    \"marks_ai\":{\n",
    "        \"quiz1\" : 42,\n",
    "        \"quiz2\" : 48,\n",
    "        \"mid\" : 53,\n",
    "        \"final\" : 58},\n",
    "    \"class_cnc\" : class2,\n",
    "    \n",
    "    \"marks_cnc\":{\n",
    "        \"quiz1\" : 49, \n",
    "        \"quiz2\" : 55, \n",
    "        \"mid\" : 60,\n",
    "        \"final\" : 65}\n",
    "}\n",
    "}\n",
    "\n",
    "stu_id =input(\"Please Enter the student id\")\n",
    "stu_id = \"student_\"+stu_id\n",
    "student_class =input(\"Please Enter your class ai or cnc\")\n",
    "student_class =\"marks_\"+student_class\n",
    "result =input(\"which result you looking for quiz1 ,quiz2 , mid , final\")\n",
    "\n",
    "try:\n",
    "    (stu_id or students[stu_id][student_class][result] or students[stu_id][student_class] ) in students\n",
    "    print(\"Marks of student \",students[stu_id][\"name\"],\"In Class\",student_class,result,\"he got the number \",students[stu_id][student_class][result])\n",
    "except:\n",
    "    print(\"Sorry We Can't Find Your Result. Please Contact to Your Teacher\")\n",
    "    \n",
    "\n",
    "\n",
    "\n",
    "\n",
    "\n",
    "\n",
    "\n"
   ]
  },
  {
   "cell_type": "code",
   "execution_count": null,
   "id": "f488de17",
   "metadata": {},
   "outputs": [],
   "source": [
    "result=[\"1\",\"2\",\"4\",\"5\",\"67\",\"8\"]\n",
    "a=\"1231\"\n",
    "\n",
    "if a in result:\n",
    "    print(\"value is correct\")\n",
    "else:\n",
    "    print(\"value is false\")\n",
    "\n"
   ]
  },
  {
   "cell_type": "markdown",
   "id": "ece0e984",
   "metadata": {},
   "source": []
  },
  {
   "cell_type": "code",
   "execution_count": null,
   "id": "ac867f73",
   "metadata": {},
   "outputs": [],
   "source": []
  },
  {
   "cell_type": "code",
   "execution_count": null,
   "id": "d426a40c",
   "metadata": {},
   "outputs": [],
   "source": []
  },
  {
   "cell_type": "code",
   "execution_count": null,
   "id": "87f3b050",
   "metadata": {},
   "outputs": [],
   "source": []
  },
  {
   "cell_type": "code",
   "execution_count": null,
   "id": "76f2f5c3",
   "metadata": {},
   "outputs": [],
   "source": []
  },
  {
   "cell_type": "markdown",
   "id": "3ee24725",
   "metadata": {},
   "source": []
  }
 ],
 "metadata": {
  "kernelspec": {
   "display_name": "Python 3 (ipykernel)",
   "language": "python",
   "name": "python3"
  },
  "language_info": {
   "codemirror_mode": {
    "name": "ipython",
    "version": 3
   },
   "file_extension": ".py",
   "mimetype": "text/x-python",
   "name": "python",
   "nbconvert_exporter": "python",
   "pygments_lexer": "ipython3",
   "version": "3.9.12"
  }
 },
 "nbformat": 4,
 "nbformat_minor": 5
}
