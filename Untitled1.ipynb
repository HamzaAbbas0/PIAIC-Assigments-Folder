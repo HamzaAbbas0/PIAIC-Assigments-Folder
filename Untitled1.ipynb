{
 "cells": [
  {
   "cell_type": "code",
   "execution_count": 16,
   "id": "3a940555",
   "metadata": {},
   "outputs": [
    {
     "ename": "KeyError",
     "evalue": "'cooking_method'",
     "output_type": "error",
     "traceback": [
      "\u001b[1;31m---------------------------------------------------------------------------\u001b[0m",
      "\u001b[1;31mKeyError\u001b[0m                                  Traceback (most recent call last)",
      "Input \u001b[1;32mIn [16]\u001b[0m, in \u001b[0;36m<cell line: 18>\u001b[1;34m()\u001b[0m\n\u001b[0;32m      1\u001b[0m recipes\u001b[38;5;241m=\u001b[39m{\n\u001b[0;32m      2\u001b[0m     \u001b[38;5;124m\"\u001b[39m\u001b[38;5;124mrecipy\u001b[39m\u001b[38;5;124m\"\u001b[39m:{\u001b[38;5;124m\"\u001b[39m\u001b[38;5;124mname\u001b[39m\u001b[38;5;124m\"\u001b[39m:\u001b[38;5;124m\"\u001b[39m\u001b[38;5;124msindhi_baryaini\u001b[39m\u001b[38;5;124m\"\u001b[39m,\n\u001b[0;32m      3\u001b[0m            \u001b[38;5;124m\"\u001b[39m\u001b[38;5;124mserving\u001b[39m\u001b[38;5;124m\"\u001b[39m:\u001b[38;5;124m\"\u001b[39m\u001b[38;5;124m10\u001b[39m\u001b[38;5;124m\"\u001b[39m,\n\u001b[1;32m   (...)\u001b[0m\n\u001b[0;32m     15\u001b[0m            }\n\u001b[0;32m     16\u001b[0m }\n\u001b[1;32m---> 18\u001b[0m \u001b[38;5;28mprint\u001b[39m(\u001b[43mrecipes\u001b[49m\u001b[43m[\u001b[49m\u001b[38;5;124;43m\"\u001b[39;49m\u001b[38;5;124;43mrecipy\u001b[39;49m\u001b[38;5;124;43m\"\u001b[39;49m\u001b[43m]\u001b[49m\u001b[43m[\u001b[49m\u001b[38;5;124;43m\"\u001b[39;49m\u001b[38;5;124;43mindredients\u001b[39;49m\u001b[38;5;124;43m\"\u001b[39;49m\u001b[43m]\u001b[49m\u001b[43m[\u001b[49m\u001b[38;5;124;43m\"\u001b[39;49m\u001b[38;5;124;43mcooking_method\u001b[39;49m\u001b[38;5;124;43m\"\u001b[39;49m\u001b[43m]\u001b[49m[\u001b[38;5;124m\"\u001b[39m\u001b[38;5;124msteps\u001b[39m\u001b[38;5;124m\"\u001b[39m])\n",
      "\u001b[1;31mKeyError\u001b[0m: 'cooking_method'"
     ]
    }
   ],
   "source": [
    "recipes={\n",
    "    \"recipy\":{\"name\":\"sindhi_baryaini\",\n",
    "           \"serving\":\"10\",\n",
    "           \"indredients\":{\"oil\":\"500ml\",\n",
    "                       \"rice\":\"2kg\",\n",
    "                       \"onion\":\"200g\",\n",
    "                       \"beaf\":\"1.5kg\",\n",
    "                       \"rice\":\"2kg\",\n",
    "                       \"danyahia\": \"50g\",\n",
    "                       \"podina\":\"25kg\"\n",
    "                       },\n",
    "           \"cooking_method\":{\"steps\":[\"step_1\",\"step_2\",\"step_3\",\"step_4\",\"step_5\"]}\n",
    "            \n",
    "            \n",
    "           }\n",
    "}\n",
    "\n",
    "print(recipes[\"recipy\"][\"indredients\"][\"cooking_method\"][\"steps\"])"
   ]
  },
  {
   "cell_type": "code",
   "execution_count": 9,
   "id": "20d8cf93",
   "metadata": {},
   "outputs": [
    {
     "name": "stdout",
     "output_type": "stream",
     "text": [
      "{'Dict1': {'name': 'Ali', 'age': '19'}, 'rules': {'a': 'rough', 'b': 'rough1'}}\n"
     ]
    }
   ],
   "source": [
    "recipe={\n",
    "    'Dict1': {'name': 'Ali', 'age': '19'},\n",
    "    \"rules\":{\"a\":\"rough\",\"b\":\"rough1\",}\n",
    "}\n",
    "print(recipe)"
   ]
  },
  {
   "cell_type": "code",
   "execution_count": 6,
   "id": "76e8cb13",
   "metadata": {},
   "outputs": [
    {
     "name": "stdout",
     "output_type": "stream",
     "text": [
      "{'name': 'Ali', 'age': '19'}\n",
      "{'Dict1': {'name': 'Ali', 'age': '19'}, 'Dict2': {'name': 'Bob', 'age': '25'}}\n"
     ]
    }
   ],
   "source": [
    "\n",
    "# Nested dictionary having same keys\n",
    "Dict = { 'Dict1': {'name': 'Ali', 'age': '19'},\n",
    "        \n",
    "         'Dict2': {'name': 'Bob', 'age': '25'}}\n",
    " \n",
    "# Prints value corresponding to key 'name' in Dict1\n",
    "print(Dict['Dict1'])\n",
    " \n",
    "# Prints value corresponding to key 'age' in Dict2\n",
    "print(Dict)"
   ]
  },
  {
   "cell_type": "code",
   "execution_count": 2,
   "id": "e8f61247",
   "metadata": {},
   "outputs": [
    {
     "name": "stdout",
     "output_type": "stream",
     "text": [
      "cannot divide by 0\n"
     ]
    }
   ],
   "source": [
    "data =50\n",
    "try:\n",
    "    data=data/0\n",
    "except ZeroDivisionError:\n",
    "    print('cannot divide by 0')\n",
    "\n",
    "try:\n",
    "    data=data/5\n",
    "except:\n",
    "    print(\"inside except block\",end=\"\")"
   ]
  },
  {
   "cell_type": "code",
   "execution_count": 3,
   "id": "547522dc",
   "metadata": {},
   "outputs": [
    {
     "name": "stdout",
     "output_type": "stream",
     "text": [
      "('baz', 3)\n",
      "('bar', 2)\n",
      "('foo', 1)\n",
      "done\n"
     ]
    }
   ],
   "source": [
    "d ={'foo':1,'bar':2,'baz':3}\n",
    "while d:\n",
    "    print(d.popitem())\n",
    "print(\"done\")"
   ]
  },
  {
   "cell_type": "code",
   "execution_count": 4,
   "id": "23c3920c",
   "metadata": {},
   "outputs": [
    {
     "ename": "NameError",
     "evalue": "name 'Child' is not defined",
     "output_type": "error",
     "traceback": [
      "\u001b[1;31m---------------------------------------------------------------------------\u001b[0m",
      "\u001b[1;31mNameError\u001b[0m                                 Traceback (most recent call last)",
      "Input \u001b[1;32mIn [4]\u001b[0m, in \u001b[0;36m<cell line: 15>\u001b[1;34m()\u001b[0m\n\u001b[0;32m     12\u001b[0m     obj\u001b[38;5;241m=\u001b[39mChild()\n\u001b[0;32m     13\u001b[0m     \u001b[38;5;28mprint\u001b[39m(obj,change())\n\u001b[1;32m---> 15\u001b[0m \u001b[43mmain\u001b[49m\u001b[43m(\u001b[49m\u001b[43m)\u001b[49m\n",
      "Input \u001b[1;32mIn [4]\u001b[0m, in \u001b[0;36mmain\u001b[1;34m()\u001b[0m\n\u001b[0;32m     11\u001b[0m \u001b[38;5;28;01mdef\u001b[39;00m \u001b[38;5;21mmain\u001b[39m():\n\u001b[1;32m---> 12\u001b[0m     obj\u001b[38;5;241m=\u001b[39m\u001b[43mChild\u001b[49m()\n\u001b[0;32m     13\u001b[0m     \u001b[38;5;28mprint\u001b[39m(obj,change())\n",
      "\u001b[1;31mNameError\u001b[0m: name 'Child' is not defined"
     ]
    }
   ],
   "source": [
    "class Parent:\n",
    "    def __init__(Self):\n",
    "        self.x=1\n",
    "    def change(self):\n",
    "        self.x=10\n",
    "        \n",
    "class child(Parent):\n",
    "    def change(self):\n",
    "        self.x=self.x+1\n",
    "        return self.x\n",
    "def main():\n",
    "    obj=Child()\n",
    "    print(obj,change())\n",
    "    \n",
    "main()"
   ]
  },
  {
   "cell_type": "code",
   "execution_count": 8,
   "id": "dc9b6e2c",
   "metadata": {},
   "outputs": [
    {
     "ename": "TypeError",
     "evalue": "abc() missing 3 required keyword-only arguments: 'x', 'y', and 'z'",
     "output_type": "error",
     "traceback": [
      "\u001b[1;31m---------------------------------------------------------------------------\u001b[0m",
      "\u001b[1;31mTypeError\u001b[0m                                 Traceback (most recent call last)",
      "Input \u001b[1;32mIn [8]\u001b[0m, in \u001b[0;36m<cell line: 4>\u001b[1;34m()\u001b[0m\n\u001b[0;32m      1\u001b[0m \u001b[38;5;28;01mdef\u001b[39;00m \u001b[38;5;21mabc\u001b[39m(\u001b[38;5;241m*\u001b[39mI,x,y,z):\n\u001b[0;32m      2\u001b[0m     \u001b[38;5;28;01mreturn\u001b[39;00m x\u001b[38;5;241m+\u001b[39my\u001b[38;5;241m+\u001b[39mz\u001b[38;5;241m+\u001b[39m\u001b[38;5;28msum\u001b[39m(I)\n\u001b[1;32m----> 4\u001b[0m \u001b[43mabc\u001b[49m\u001b[43m(\u001b[49m\u001b[38;5;241;43m9\u001b[39;49m\u001b[43m,\u001b[49m\u001b[38;5;241;43m5\u001b[39;49m\u001b[43m,\u001b[49m\u001b[38;5;241;43m6\u001b[39;49m\u001b[43m)\u001b[49m\n",
      "\u001b[1;31mTypeError\u001b[0m: abc() missing 3 required keyword-only arguments: 'x', 'y', and 'z'"
     ]
    }
   ],
   "source": [
    "def abc(*I,x,y,z):\n",
    "    return x+y+z+sum(I)\n",
    "\n",
    "abc(9,5,6)"
   ]
  },
  {
   "cell_type": "code",
   "execution_count": 14,
   "id": "bdb509cd",
   "metadata": {},
   "outputs": [
    {
     "name": "stdout",
     "output_type": "stream",
     "text": [
      "3A\n",
      "3A3B\n",
      "3A3B1A\n",
      "3A3B1A1B\n"
     ]
    }
   ],
   "source": [
    "s=\"\"\n",
    "n=5\n",
    "while n>0:\n",
    "    n-=1\n",
    "    if(n%2)==0:\n",
    "        continue\n",
    "        \n",
    "    a=[\"A\",\"B\",\"C\"]\n",
    "    while a:\n",
    "        s+=str(n)+a.pop(0)\n",
    "        print(s)\n",
    "        if len(a)<2:\n",
    "            break"
   ]
  },
  {
   "cell_type": "code",
   "execution_count": 5,
   "id": "deeee5c0",
   "metadata": {},
   "outputs": [
    {
     "ename": "NameError",
     "evalue": "name 'obj' is not defined",
     "output_type": "error",
     "traceback": [
      "\u001b[1;31m---------------------------------------------------------------------------\u001b[0m",
      "\u001b[1;31mNameError\u001b[0m                                 Traceback (most recent call last)",
      "Input \u001b[1;32mIn [5]\u001b[0m, in \u001b[0;36m<cell line: 8>\u001b[1;34m()\u001b[0m\n\u001b[0;32m      3\u001b[0m         \u001b[38;5;28mself\u001b[39m\u001b[38;5;241m.\u001b[39ma \u001b[38;5;241m=\u001b[39m\u001b[38;5;124m'\u001b[39m\u001b[38;5;124mA\u001b[39m\u001b[38;5;124m'\u001b[39m\n\u001b[0;32m      5\u001b[0m \u001b[38;5;66;03m# obj1=ABC()\u001b[39;00m\n\u001b[0;32m      6\u001b[0m \u001b[38;5;66;03m# print(obj1.a)\u001b[39;00m\n\u001b[1;32m----> 8\u001b[0m \u001b[43mobj\u001b[49m\u001b[38;5;241m.\u001b[39mb\u001b[38;5;241m=\u001b[39m\u001b[38;5;124m\"\u001b[39m\u001b[38;5;124mpakistan\u001b[39m\u001b[38;5;124m\"\u001b[39m\n\u001b[0;32m      9\u001b[0m \u001b[38;5;28mprint\u001b[39m(obj\u001b[38;5;241m.\u001b[39mb)\n",
      "\u001b[1;31mNameError\u001b[0m: name 'obj' is not defined"
     ]
    }
   ],
   "source": [
    "class ABC():\n",
    "    def __init__(self):\n",
    "        self.a ='A'\n",
    "        \n",
    "# obj1=ABC()\n",
    "# print(obj1.a)\n",
    "\n",
    "obj.b=\"pakistan\"\n",
    "print(obj.b)"
   ]
  },
  {
   "cell_type": "code",
   "execution_count": null,
   "id": "51dfd81f",
   "metadata": {},
   "outputs": [],
   "source": []
  }
 ],
 "metadata": {
  "kernelspec": {
   "display_name": "Python 3 (ipykernel)",
   "language": "python",
   "name": "python3"
  },
  "language_info": {
   "codemirror_mode": {
    "name": "ipython",
    "version": 3
   },
   "file_extension": ".py",
   "mimetype": "text/x-python",
   "name": "python",
   "nbconvert_exporter": "python",
   "pygments_lexer": "ipython3",
   "version": "3.9.12"
  }
 },
 "nbformat": 4,
 "nbformat_minor": 5
}
