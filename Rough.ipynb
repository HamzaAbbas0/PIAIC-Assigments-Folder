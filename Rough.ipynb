{
 "cells": [
  {
   "cell_type": "code",
   "execution_count": null,
   "id": "31e12802",
   "metadata": {},
   "outputs": [],
   "source": [
    "# def say_something():\n",
    "#     what_to_say = \"Hi\"\n",
    "#     print(what_to_say)\n",
    "#     now_say_it(what_to_say)\n",
    "    \n",
    "# def now_say_it(parameter):\n",
    "#     print(parameter)\n",
    "\n",
    "# say_something()\n"
   ]
  },
  {
   "cell_type": "code",
   "execution_count": null,
   "id": "14a54240",
   "metadata": {},
   "outputs": [],
   "source": [
    "# def say_something():\n",
    "#     what_to_say = \"Hi\"\n",
    "#     print(what_to_say)\n",
    "#     now_say_it(what_to_say)\n",
    "    \n",
    "# def now_say_it(content):\n",
    "#     print(\"i am still running\")\n",
    "#     return\n",
    "# #     print(content)\n",
    "\n",
    "# say_something()"
   ]
  },
  {
   "cell_type": "code",
   "execution_count": null,
   "id": "bf503344",
   "metadata": {},
   "outputs": [],
   "source": [
    "# cleanest_cities = [\"Cheyenne\", \"Santa Fe\", \"Tucson\",\"Great Falls\", \"Honolulu\"]\n",
    "\n",
    "# fnd_clncity =input(\"Please Enter yout city name to check your city is clean or not :)\")\n",
    "\n",
    "# for cities in cleanest_cities:\n",
    "#     if fnd_clncity == cities :\n",
    "#         print(\"Yes ! your city is supposed to be clean city in the world\")\n",
    "#         break\n"
   ]
  },
  {
   "cell_type": "code",
   "execution_count": null,
   "id": "b4f96883",
   "metadata": {},
   "outputs": [],
   "source": [
    "variables = [\"Cheyenne\", \"Santa Fe\", \"Tucson\",\"Great Falls\", \"Honolulu\"]\n",
    "while True :\n",
    "    userinput =input(\"Please Enter yout city name to check your city is clean or not :)\")\n",
    "    for cities in variables:\n",
    "        if userinput == cities :\n",
    "            print(\"Yes ! your city is supposed to be clean city in the world\")\n",
    "            break\n",
    "        else:\n",
    "            print(\"sorry your city not supposed to be clean city in the world\")\n",
    "    "
   ]
  },
  {
   "cell_type": "code",
   "execution_count": null,
   "id": "f8900e75",
   "metadata": {},
   "outputs": [],
   "source": [
    "variables = [\"Cheyenne\", \"Santa Fe\", \"Tucson\",\"Great Falls\", \"Honolulu\"]\n",
    "while True :\n",
    "    userinput =input(\"Please Enter yout city name to check your city is clean or not :)\")\n",
    "    for cities in variables:\n",
    "        if userinput == cities :\n",
    "            print(\"Yes ! your city is supposed to be clean city in the world\")\n",
    "            break\n",
    "        else:\n",
    "            print(\"sorry your city not supposed to be clean city in the world\")\n",
    "            break\n",
    "    "
   ]
  },
  {
   "cell_type": "code",
   "execution_count": null,
   "id": "4be18d47",
   "metadata": {},
   "outputs": [],
   "source": [
    "cleanest_cities = [\"Cheyenne\", \"Santa Fe\", \"Tucson\",\"Great Falls\", \"Honolulu\"]\n",
    "user_input = \"\"\n",
    "while user_input != \"q\":\n",
    "    user_input = input(\"Enter a city, or q to quit:\")\n",
    "    if user_input != \"q\":\n",
    "        for a_clean_city in cleanest_cities:\n",
    "            if user_input == a_clean_city:\n",
    "                print(\"It's one of the cleanest cities\")\n",
    "                break"
   ]
  },
  {
   "cell_type": "code",
   "execution_count": null,
   "id": "a7528d4a",
   "metadata": {},
   "outputs": [],
   "source": [
    "user_input = \"\"\n",
    "cleanest_cities = [\"Cheyenne\", \"Santa Fe\", \"Tucson\",\"Great Falls\", \"Honolulu\"]\n",
    "keep_looping = True\n",
    "while keep_looping == True:\n",
    "    user_input = input(\"Enter a city, or q to quit:\")\n",
    "    if user_input != \"q\":\n",
    "        for a_clean_city in cleanest_cities:\n",
    "            if user_input == a_clean_city:\n",
    "                print(\"It's one of the cleanest cities\")\n",
    "#             else:\n",
    "#                 print(user_input,\"it is not avaiable in the list\")\n",
    "                break\n",
    "    else:\n",
    "        keep_looping = False\n",
    "        print(\"keep looping is now false\")"
   ]
  },
  {
   "cell_type": "code",
   "execution_count": 5,
   "id": "b9edf536",
   "metadata": {},
   "outputs": [
    {
     "name": "stdout",
     "output_type": "stream",
     "text": [
      "Enter your name to find your attendencedsafa\n",
      "your attendence is low please take the classes\n"
     ]
    }
   ],
   "source": [
    "main_switch = True\n",
    "while main_switch == True:\n",
    "    name =input(\"Enter your name to find your attendence\")\n",
    "    if main_switch != False:\n",
    "        if name ==\"hamza\":\n",
    "            print(\"your attendence is good\")\n",
    "        else:\n",
    "            print(\"your attendence is low please take the classes\")\n",
    "            main_switch =False\n",
    "#     else:\n",
    "#         main_switch =False\n",
    "#         print(\"main_switch is going to false now\")\n",
    "        "
   ]
  },
  {
   "cell_type": "code",
   "execution_count": 5,
   "id": "7ffc167f",
   "metadata": {},
   "outputs": [
    {
     "name": "stdout",
     "output_type": "stream",
     "text": [
      "<class 'list'>\n"
     ]
    }
   ],
   "source": [
    "list1 =list([1,2,3])\n",
    "print(type(list1))"
   ]
  },
  {
   "cell_type": "code",
   "execution_count": 6,
   "id": "9c6d7e77",
   "metadata": {},
   "outputs": [
    {
     "name": "stdout",
     "output_type": "stream",
     "text": [
      "5\n"
     ]
    }
   ],
   "source": [
    "numbers =[1,2,3,4]\n",
    "numbers.append([5,6,7,8])\n",
    "print(len(numbers))"
   ]
  },
  {
   "cell_type": "code",
   "execution_count": 9,
   "id": "959757ba",
   "metadata": {},
   "outputs": [
    {
     "name": "stdout",
     "output_type": "stream",
     "text": [
      "he\n"
     ]
    }
   ],
   "source": [
    "str=\"hello\"\n",
    "res=str[:2]\n",
    "print(res)"
   ]
  },
  {
   "cell_type": "code",
   "execution_count": null,
   "id": "75a4e304",
   "metadata": {},
   "outputs": [],
   "source": []
  }
 ],
 "metadata": {
  "kernelspec": {
   "display_name": "Python 3 (ipykernel)",
   "language": "python",
   "name": "python3"
  },
  "language_info": {
   "codemirror_mode": {
    "name": "ipython",
    "version": 3
   },
   "file_extension": ".py",
   "mimetype": "text/x-python",
   "name": "python",
   "nbconvert_exporter": "python",
   "pygments_lexer": "ipython3",
   "version": "3.9.12"
  }
 },
 "nbformat": 4,
 "nbformat_minor": 5
}
