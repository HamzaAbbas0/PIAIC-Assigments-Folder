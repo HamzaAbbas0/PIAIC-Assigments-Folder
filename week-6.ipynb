{
 "cells": [
  {
   "cell_type": "code",
   "execution_count": null,
   "id": "194c78ed",
   "metadata": {},
   "outputs": [],
   "source": [
    "user_input = \"\"\n",
    "cleanest_cities = [\"Cheyenne\", \"Santa Fe\", \"Tucson\",\"Great Falls\", \"Honolulu\"]\n",
    "\n",
    "while user_input != \"q\":\n",
    "    user_input = input(\"Enter a city, or q to quit:\")\n",
    "    if user_input != \"q\":\n",
    "        for a_clean_city in cleanest_cities:\n",
    "            if user_input == a_clean_city:\n",
    "                print(\"It's one of the cleanest cities\")\n",
    "                break\n"
   ]
  },
  {
   "cell_type": "code",
   "execution_count": null,
   "id": "0d7ab7bd",
   "metadata": {},
   "outputs": [],
   "source": [
    "user_input = \"\"\n",
    "cleanest_cities = [\"Cheyenne\", \"Santa Fe\", \"Tucson\",\"Great Falls\", \"Honolulu\"]\n",
    "index = 0\n",
    "user_input = input(\"enter the city name\")\n",
    "\n",
    "while index < len(cleanest_cities):\n",
    "    if user_input == cleanest_cities.index(\"Cheyenne\"):\n",
    "        print(\"it is one of the cleanest city\")\n",
    "    index +=1\n"
   ]
  },
  {
   "cell_type": "code",
   "execution_count": 1,
   "id": "f7bbcbb6",
   "metadata": {},
   "outputs": [
    {
     "name": "stdout",
     "output_type": "stream",
     "text": [
      "Enter a city, or q to quit:ksadjf\n",
      "Enter a city, or q to quit:q\n",
      "keep looping is now false\n"
     ]
    }
   ],
   "source": [
    "user_input = \"\"\n",
    "cleanest_cities = [\"Cheyenne\", \"Santa Fe\", \"Tucson\",\"Great Falls\", \"Honolulu\"]\n",
    "keep_looping = True\n",
    "while keep_looping == True:\n",
    "    user_input = input(\"Enter a city, or q to quit:\")\n",
    "    if user_input != \"q\":\n",
    "        for a_clean_city in cleanest_cities:\n",
    "            if user_input == a_clean_city:\n",
    "                print(\"It's one of the cleanest cities\")\n",
    "#             else:\n",
    "#                 print(user_input,\"it is not avaiable in the list\")\n",
    "            break\n",
    "    else:\n",
    "        keep_looping = False\n",
    "        print(\"keep looping is now false\")\n"
   ]
  },
  {
   "cell_type": "code",
   "execution_count": null,
   "id": "2bb6483a",
   "metadata": {},
   "outputs": [],
   "source": [
    "user_input = \"\"\n",
    "cleanest_cities = [\"Cheyenne\", \"Santa Fe\", \"Tucson\",\"Great Falls\", \"Honolulu\"]\n",
    "keep_looping = True\n",
    "while keep_looping == True:\n",
    "    user_input = input(\"Enter a city, or q to quit:\")\n",
    "    if user_input != \"q\":\n",
    "        if user_input in cleanest_cities:\n",
    "            print(\"It's one of the cleanest cities\")\n",
    "            keep_looping =False\n",
    "      \n",
    "    if keep_looping:\n",
    "        print(\"This city is not avaiable in the list\")\n"
   ]
  },
  {
   "cell_type": "markdown",
   "id": "bd4074a4",
   "metadata": {},
   "source": [
    "# CLASSES (OBJECT ORIENTED PROGRAMMING START)"
   ]
  },
  {
   "cell_type": "code",
   "execution_count": 4,
   "id": "35e035d3",
   "metadata": {},
   "outputs": [
    {
     "name": "stdout",
     "output_type": "stream",
     "text": [
      "patient name Hamza\n"
     ]
    }
   ],
   "source": [
    "class Patient():\n",
    "    def __init__(self, last_name):\n",
    "        self.last_name = last_name\n",
    "        print(\"patient name\",self.last_name)\n",
    "pid324=Patient(\"Hamza\")"
   ]
  },
  {
   "cell_type": "code",
   "execution_count": 13,
   "id": "594d58d3",
   "metadata": {},
   "outputs": [
    {
     "name": "stdout",
     "output_type": "stream",
     "text": [
      "patient name Hamza kashif 30\n",
      "patient name Ali ahmed 20\n",
      "patient name kamran ali 10\n",
      "patient name ahmed hassan 40\n",
      "30 20\n",
      "40\n"
     ]
    }
   ],
   "source": [
    "class Patient():\n",
    "    def __init__(self, last_name,first_name,age):\n",
    "        self.last_name = last_name\n",
    "        self.first_name = first_name\n",
    "        self.age = age\n",
    "        print(\"patient name\",self.last_name,first_name,age)\n",
    "pid324=Patient(\"Hamza\",\"kashif\",\"30\")\n",
    "pid124=Patient(\"Ali\",\"ahmed\",\"20\")\n",
    "pid12=Patient(\"kamran\",\"ali\",\"10\")\n",
    "pid14=Patient(\"ahmed\",\"hassan\",\"40\")\n",
    "print(pid324.age,pid124.age)\n",
    "patients_age =[pid324.age,pid124.age,pid12.age,pid14.age]\n",
    "max_age = max(patients_age)\n",
    "print(max_age)"
   ]
  },
  {
   "cell_type": "code",
   "execution_count": null,
   "id": "2b196062",
   "metadata": {},
   "outputs": [],
   "source": []
  }
 ],
 "metadata": {
  "kernelspec": {
   "display_name": "Python 3 (ipykernel)",
   "language": "python",
   "name": "python3"
  },
  "language_info": {
   "codemirror_mode": {
    "name": "ipython",
    "version": 3
   },
   "file_extension": ".py",
   "mimetype": "text/x-python",
   "name": "python",
   "nbconvert_exporter": "python",
   "pygments_lexer": "ipython3",
   "version": "3.9.12"
  }
 },
 "nbformat": 4,
 "nbformat_minor": 5
}
