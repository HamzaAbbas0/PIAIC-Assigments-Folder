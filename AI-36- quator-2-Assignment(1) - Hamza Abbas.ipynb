{
 "cells": [
  {
   "cell_type": "code",
   "execution_count": null,
   "id": "c44bbcec",
   "metadata": {},
   "outputs": [],
   "source": []
  },
  {
   "cell_type": "code",
   "execution_count": null,
   "id": "fb78aa3f",
   "metadata": {},
   "outputs": [],
   "source": []
  },
  {
   "cell_type": "code",
   "execution_count": 2,
   "id": "2da5e308",
   "metadata": {},
   "outputs": [],
   "source": [
    "import numpy as np"
   ]
  },
  {
   "cell_type": "markdown",
   "id": "de12eac1",
   "metadata": {},
   "source": [
    "# ABSOLUTE"
   ]
  },
  {
   "cell_type": "code",
   "execution_count": 15,
   "id": "676952a6",
   "metadata": {},
   "outputs": [
    {
     "name": "stdout",
     "output_type": "stream",
     "text": [
      "[46]\n",
      "[ 4  9 14 23 32 56]\n",
      "[15.7  8.6  7.1  8.7 19.2 43.8]\n",
      "[[ 12   8  23  32]\n",
      " [ 49  74  92 106]]\n",
      "[ 8.06225775 10.29563014 20.61552813 18.78829423]\n"
     ]
    }
   ],
   "source": [
    "\n",
    "# Below are the quick examples\n",
    "\n",
    "# Example 1: Use numpy.absolute() to get the absolute value\n",
    "arr = np.array([-46])\n",
    "arr2 = np.absolute(arr)\n",
    "print(arr2)\n",
    "\n",
    "# Example 2: get the absolute values of multiple elements of 1-d array\n",
    "arr = [4, -9, 14, -23, 32, -56]\n",
    "arr2 = np.absolute(arr)\n",
    "print(arr2)\n",
    "\n",
    "# Example 3: Use numpy.absolute() function to get \n",
    "# the absolute values of floating point\n",
    "arr = [-15.7, 8.6, -7.1, 8.7, -19.2, 43.8]\n",
    "arr2 = np.absolute(arr)\n",
    "print(arr2)\n",
    "\n",
    "# Example 4: Use numpy.absolute() get the absolute values \n",
    "# of 2-D array elements\n",
    "arr = np.array([[-12, 8, -23, 32], [49, -74, -92, 106]])\n",
    "arr2 = np.absolute(arr)\n",
    "print(arr2)\n",
    "\n",
    "\n",
    "# Example 5: Use numpy.absolute() function with complex numbers\n",
    "arr = [4+7j, -5-9j, 16+13j, -8+17j]\n",
    "arr2 = np.absolute(arr)\n",
    "print(arr2)\n",
    "\n",
    "# # Example 6: Use np.absolute function to graphical representation  \n",
    "# arr = np.linspace(start = -18, stop = 13, num = 12, endpoint = True)\n",
    "# arr2 = np.absolute(arr)                 \n",
    "# print(arr2)\n",
    "# plt.plot(arr, np.absolute(arr)) \n",
    "# plt.plot(arr, arr, color = 'orange')\n",
    "# plt.show()\n"
   ]
  },
  {
   "cell_type": "code",
   "execution_count": 16,
   "id": "940dce6a",
   "metadata": {},
   "outputs": [],
   "source": [
    "import matplotlib.pyplot as plt"
   ]
  },
  {
   "cell_type": "code",
   "execution_count": 17,
   "id": "c612c881",
   "metadata": {},
   "outputs": [
    {
     "name": "stdout",
     "output_type": "stream",
     "text": [
      "[18.         15.18181818 12.36363636  9.54545455  6.72727273  3.90909091\n",
      "  1.09090909  1.72727273  4.54545455  7.36363636 10.18181818 13.        ]\n"
     ]
    },
    {
     "data": {
      "image/png": "[encoded data removed]",
      "text/plain": [
       "<Figure size 640x480 with 1 Axes>"
      ]
     },
     "metadata": {},
     "output_type": "display_data"
    }
   ],
   "source": [
    "import numpy as np\n",
    "import matplotlib.pyplot as plt\n",
    " \n",
    "# Use np.absolute function to graphical representation  \n",
    "arr = np.linspace(start = -18, stop = 13,\n",
    "                num = 12, endpoint = True)\n",
    "\n",
    "arr2 = np.absolute(arr)                 \n",
    "print(arr2)\n",
    "\n",
    "plt.plot(arr, np.absolute(arr)) \n",
    "plt.plot(arr, arr, color = 'orange')\n",
    "plt.show()"
   ]
  },
  {
   "cell_type": "markdown",
   "id": "b1c20f5a",
   "metadata": {},
   "source": [
    "# FABS"
   ]
  },
  {
   "cell_type": "code",
   "execution_count": 26,
   "id": "96f1b755",
   "metadata": {},
   "outputs": [
    {
     "name": "stdout",
     "output_type": "stream",
     "text": [
      "Output absolute array :  [[ 32.  22.  34.  54.  56.]\n",
      " [665.  45.  65.  54.  43.]]\n"
     ]
    }
   ],
   "source": [
    "new_arr = [[-32,22,34,54,56],[665,45,65,54,43]]\n",
    "out_arr = np.fabs(new_arr) \n",
    "print (\"Output absolute array : \", out_arr) "
   ]
  },
  {
   "cell_type": "markdown",
   "id": "ab62b39b",
   "metadata": {},
   "source": [
    "# SQUARE ROOT"
   ]
  },
  {
   "cell_type": "code",
   "execution_count": 27,
   "id": "deb38238",
   "metadata": {},
   "outputs": [
    {
     "name": "stdout",
     "output_type": "stream",
     "text": [
      "square-root of an array  :  [2.        +0.j         0.        +1.j         1.62721083+2.76546833j]\n"
     ]
    }
   ],
   "source": [
    "arr = np.sqrt([4, -1, -5 + 9J])\n",
    "  \n",
    "print(\"square-root of an array  : \", arr)"
   ]
  },
  {
   "cell_type": "markdown",
   "id": "f2a87573",
   "metadata": {},
   "source": [
    "# SQUARE"
   ]
  },
  {
   "cell_type": "code",
   "execution_count": 37,
   "id": "6d416576",
   "metadata": {},
   "outputs": [
    {
     "name": "stdout",
     "output_type": "stream",
     "text": [
      "<class 'numpy.ndarray'>\n",
      "Squared Array:\n",
      "[16 25 36 49]\n"
     ]
    }
   ],
   "source": [
    "arr = np.array([4,5,6,7])\n",
    "print(type(arr))\n",
    "out_sqare = np.square(arr)\n",
    "print(f'Squared Array:\\n{out_sqare}')"
   ]
  },
  {
   "cell_type": "markdown",
   "id": "1a160632",
   "metadata": {},
   "source": [
    "# EXPONENT"
   ]
  },
  {
   "cell_type": "code",
   "execution_count": 3,
   "id": "9463dba6",
   "metadata": {},
   "outputs": [
    {
     "name": "stdout",
     "output_type": "stream",
     "text": [
      "Output array :  [  2.71828183  20.08553692 148.4131591 ]\n"
     ]
    }
   ],
   "source": [
    "exponent = [1, 3, 5]\n",
    "out_array = np.exp(exponent)\n",
    "print (\"Output array : \", out_array)"
   ]
  },
  {
   "cell_type": "markdown",
   "id": "7fbf5f06",
   "metadata": {},
   "source": [
    "# LOG"
   ]
  },
  {
   "cell_type": "code",
   "execution_count": 5,
   "id": "c5ebd83b",
   "metadata": {},
   "outputs": [
    {
     "name": "stdout",
     "output_type": "stream",
     "text": [
      "[0.60205999 0.         0.60205999 0.77815125]\n"
     ]
    }
   ],
   "source": [
    "print(np.log10([4 , 1, 4, 6]))"
   ]
  },
  {
   "cell_type": "markdown",
   "id": "617ff0e7",
   "metadata": {},
   "source": [
    "# CEIL FUNCTION"
   ]
  },
  {
   "cell_type": "code",
   "execution_count": 6,
   "id": "7043a527",
   "metadata": {},
   "outputs": [
    {
     "name": "stdout",
     "output_type": "stream",
     "text": [
      "[[ 1.  5. 10.]\n",
      " [ 8.  5.  6.]]\n"
     ]
    }
   ],
   "source": [
    "# Create 2-D array\n",
    "arr = np.array([[0.8, 4.1, 9.7],[ 8.0, 5 ,6]])\n",
    "arr1 = np.ceil(arr)\n",
    "print(arr1)"
   ]
  },
  {
   "cell_type": "markdown",
   "id": "cb9788e3",
   "metadata": {},
   "source": [
    "# FLOOR"
   ]
  },
  {
   "cell_type": "code",
   "execution_count": 10,
   "id": "e17fb90e",
   "metadata": {},
   "outputs": [
    {
     "name": "stdout",
     "output_type": "stream",
     "text": [
      "[ 1.  4.  7.  9. 12.]\n"
     ]
    }
   ],
   "source": [
    "floor_array = [1.97, 4.5, 7, 9, 12]\n",
    "result = np.floor(floor_array)\n",
    "print(result)"
   ]
  },
  {
   "cell_type": "markdown",
   "id": "d01f3552",
   "metadata": {},
   "source": [
    "# rint"
   ]
  },
  {
   "cell_type": "code",
   "execution_count": 11,
   "id": "573bc60f",
   "metadata": {},
   "outputs": [
    {
     "name": "stdout",
     "output_type": "stream",
     "text": [
      "\n",
      "Rounded values : \n",
      " [ 0.  2.  2.  4.  4. 10.]\n"
     ]
    }
   ],
   "source": [
    "in_array = [.5, 1.5, 2.5, 3.5, 4.5, 10.1]\n",
    "rintoff_values = np.rint(in_array)\n",
    "print (\"\\nRounded values : \\n\", rintoff_values)"
   ]
  },
  {
   "cell_type": "markdown",
   "id": "5a51fda9",
   "metadata": {},
   "source": [
    "# MODF"
   ]
  },
  {
   "cell_type": "code",
   "execution_count": 12,
   "id": "2af5356c",
   "metadata": {},
   "outputs": [
    {
     "name": "stdout",
     "output_type": "stream",
     "text": [
      "(array([0.5  , 0.234, 0.   , 0.05 ]), array([0., 1., 2., 4.]))\n"
     ]
    }
   ],
   "source": [
    "x = np.array([0.5, 1.234, 2, 4.05])\n",
    "myarray = np.modf(x)\n",
    "print(myarray)"
   ]
  },
  {
   "cell_type": "markdown",
   "id": "b537df86",
   "metadata": {},
   "source": [
    "# ISNAN \n",
    "(\"Not a Number\" in NumPy. It is a special value used to represent missing or undefined numerical data. )"
   ]
  },
  {
   "cell_type": "code",
   "execution_count": 26,
   "id": "7a2e5b66",
   "metadata": {},
   "outputs": [
    {
     "name": "stdout",
     "output_type": "stream",
     "text": [
      "\n",
      "Is NaN(Not a Number): \n",
      " [[False False False False]\n",
      " [False False False False]\n",
      " [False False False False]\n",
      " [False False False False]\n",
      " [False False False False]]\n",
      "the new program :[False False  True False]\n"
     ]
    }
   ],
   "source": [
    "b = np.arange(20).reshape(5, 4)\n",
    "print(\"\\nIs NaN(Not a Number): \\n\", np.isnan(b))\n",
    "\n",
    "\n",
    "\n",
    "arr1 = np.array([1,2,np.nan, np.log(5)])\n",
    "print (f'the new program :{np.isnan(arr1)}')\n",
    "\n"
   ]
  },
  {
   "cell_type": "markdown",
   "id": "0d03a04b",
   "metadata": {},
   "source": [
    "# isfinite"
   ]
  },
  {
   "cell_type": "code",
   "execution_count": 28,
   "id": "816b5a2b",
   "metadata": {},
   "outputs": [
    {
     "name": "stdout",
     "output_type": "stream",
     "text": [
      "\n",
      " [[ 0  1  2  3]\n",
      " [ 4  5  6  7]\n",
      " [ 8  9 10 11]\n",
      " [12 13 14 15]\n",
      " [16 17 18 19]]\n",
      "\n",
      "Is Finite : \n",
      " [[ True  True  True  True]\n",
      " [ True  True  True  True]\n",
      " [ True  True  True  True]\n",
      " [ True  True  True  True]\n",
      " [ True  True  True  True]]\n"
     ]
    }
   ],
   "source": [
    "b = np.arange(20).reshape(5, 4)\n",
    "                \n",
    "print(\"\\n\",b)\n",
    "print(\"\\nIs Finite : \\n\", np.isfinite(b))"
   ]
  },
  {
   "cell_type": "markdown",
   "id": "94d06330",
   "metadata": {},
   "source": [
    "# sign"
   ]
  },
  {
   "cell_type": "code",
   "execution_count": 31,
   "id": "f161ac7e",
   "metadata": {},
   "outputs": [
    {
     "name": "stdout",
     "output_type": "stream",
     "text": [
      "\n",
      "Check sign of array1 :  [ 1  0 -1  1  1 -1]\n",
      "\n",
      "Check sign of array2 :  [-1  0  1]\n"
     ]
    }
   ],
   "source": [
    "array1 = [1, 0, -13,879,34,-99]\n",
    "array2 =  [-1, 0, 15]\n",
    "\n",
    "print (\"\\nCheck sign of array1 : \", np.sign(array1))\n",
    "print (\"\\nCheck sign of array2 : \", np.sign(array2))"
   ]
  },
  {
   "cell_type": "markdown",
   "id": "08b4fdff",
   "metadata": {},
   "source": [
    "# copysign\n",
    " convert the sign of an input array x1 to that of another x2 element-wise."
   ]
  },
  {
   "cell_type": "code",
   "execution_count": 32,
   "id": "9222be37",
   "metadata": {},
   "outputs": [
    {
     "name": "stdout",
     "output_type": "stream",
     "text": [
      "[-1. -2.  3.]\n"
     ]
    }
   ],
   "source": [
    "# creating the arrays\n",
    "x1 = np.array([1, 2, 3])\n",
    "x2 = np.array([-2, -1, 1])\n",
    "# implementing the numpy.copysign() funciton \n",
    "myarray = np.copysign(x1, x2)\n",
    "\n",
    "print(myarray)"
   ]
  },
  {
   "cell_type": "markdown",
   "id": "96e0e025",
   "metadata": {},
   "source": [
    "# FMAX\n",
    "used to compute element-wise maximum of array elements."
   ]
  },
  {
   "cell_type": "code",
   "execution_count": 33,
   "id": "42a0e62b",
   "metadata": {},
   "outputs": [
    {
     "name": "stdout",
     "output_type": "stream",
     "text": [
      "Input array1 :  [2, 8, 125, nan]\n",
      "Input array2 :  [nan, 3, 115, nan]\n",
      "Output array :  [  2.   8. 125.  nan]\n"
     ]
    }
   ],
   "source": [
    "in_arr1 = [2, 8, 125, np.nan]\n",
    "in_arr2 = [np.nan, 3, 115, np.nan]\n",
    "   \n",
    "print (\"Input array1 : \", in_arr1) \n",
    "print (\"Input array2 : \", in_arr2)\n",
    "    \n",
    "out_arr = np.fmax(in_arr1, in_arr2) \n",
    "print (\"Output array : \", out_arr)"
   ]
  },
  {
   "cell_type": "markdown",
   "id": "b1fcfc5f",
   "metadata": {},
   "source": [
    " #  FMIN"
   ]
  },
  {
   "cell_type": "code",
   "execution_count": 34,
   "id": "44559c4a",
   "metadata": {},
   "outputs": [
    {
     "name": "stdout",
     "output_type": "stream",
     "text": [
      "Input array1 :  [2, 8, 125, nan]\n",
      "Input array2 :  [nan, 3, 115, nan]\n",
      "Output array :  [  2.   3. 115.  nan]\n"
     ]
    }
   ],
   "source": [
    "in_arr1 = [2, 8, 125, np.nan]\n",
    "in_arr2 = [np.nan, 3, 115, np.nan]\n",
    "   \n",
    "print (\"Input array1 : \", in_arr1) \n",
    "print (\"Input array2 : \", in_arr2)\n",
    "    \n",
    "out_arr = np.fmin(in_arr1, in_arr2) \n",
    "print (\"Output array : \", out_arr)"
   ]
  },
  {
   "cell_type": "markdown",
   "id": "2443bda7",
   "metadata": {},
   "source": [
    "#  mod"
   ]
  },
  {
   "cell_type": "code",
   "execution_count": 35,
   "id": "ec2de220",
   "metadata": {},
   "outputs": [
    {
     "name": "stdout",
     "output_type": "stream",
     "text": [
      "Dividend :  6\n",
      "Divisor :  4\n",
      "Remainder :  2\n"
     ]
    }
   ],
   "source": [
    "in_num1 = 6\n",
    "in_num2 = 4\n",
    "  \n",
    "print (\"Dividend : \", in_num1)\n",
    "print (\"Divisor : \", in_num2)\n",
    "    \n",
    "out_num = np.mod(in_num1, in_num2) \n",
    "print (\"Remainder : \", out_num) "
   ]
  },
  {
   "cell_type": "markdown",
   "id": "467201d6",
   "metadata": {},
   "source": [
    "# positive"
   ]
  },
  {
   "cell_type": "code",
   "execution_count": 36,
   "id": "9ec99791",
   "metadata": {},
   "outputs": [
    {
     "name": "stdout",
     "output_type": "stream",
     "text": [
      "[ 20 -30  40]\n",
      "[ 2 -3  4]\n"
     ]
    }
   ],
   "source": [
    "arr1 = np.array([20,-30,40])\n",
    "arr2 = np.array([2,-3,4])\n",
    "\n",
    "print(np.positive(arr1))\n",
    "print(np.positive(arr2))"
   ]
  },
  {
   "cell_type": "markdown",
   "id": "771d50b0",
   "metadata": {},
   "source": [
    "# reciprocal"
   ]
  },
  {
   "cell_type": "code",
   "execution_count": 39,
   "id": "e8489335",
   "metadata": {},
   "outputs": [
    {
     "name": "stdout",
     "output_type": "stream",
     "text": [
      "Input array :  [2, 3, 8]\n",
      "Output array :  [0 0 0]\n"
     ]
    }
   ],
   "source": [
    "in_arr = [2, 3, 8] \n",
    "print (\"Input array : \", in_arr) \n",
    "    \n",
    "out_arr = np.reciprocal(in_arr) \n",
    "print (\"Output array : \", out_arr) "
   ]
  },
  {
   "cell_type": "markdown",
   "id": "1f94645a",
   "metadata": {},
   "source": [
    "# POWER"
   ]
  },
  {
   "cell_type": "code",
   "execution_count": 42,
   "id": "e1521525",
   "metadata": {},
   "outputs": [
    {
     "name": "stdout",
     "output_type": "stream",
     "text": [
      "output of result-1 [   4   64 7776  625    3]\n",
      "output of result-2 [  9  81 729 243  27]\n"
     ]
    }
   ],
   "source": [
    "arr = [2, 4, 6, 5, 3]\n",
    "arr1 = [2, 3, 5, 4, 1]\n",
    "arr2 = np.power(arr,arr1)\n",
    "arr3 = np.power(3,arr)\n",
    "\n",
    "\n",
    "print(\"output of result-1\",arr2)\n",
    "print(\"output of result-2\",arr3)"
   ]
  },
  {
   "cell_type": "code",
   "execution_count": 43,
   "id": "db390214",
   "metadata": {},
   "outputs": [
    {
     "data": {
      "text/plain": [
       "81"
      ]
     },
     "execution_count": 43,
     "metadata": {},
     "output_type": "execute_result"
    }
   ],
   "source": [
    "3**4"
   ]
  },
  {
   "cell_type": "markdown",
   "id": "edcb311d",
   "metadata": {},
   "source": [
    "#        ASSIGNMENT COMPLETE !"
   ]
  },
  {
   "cell_type": "code",
   "execution_count": null,
   "id": "f5d88e7e",
   "metadata": {},
   "outputs": [],
   "source": []
  }
 ],
 "metadata": {
  "kernelspec": {
   "display_name": "Python 3 (ipykernel)",
   "language": "python",
   "name": "python3"
  },
  "language_info": {
   "codemirror_mode": {
    "name": "ipython",
    "version": 3
   },
   "file_extension": ".py",
   "mimetype": "text/x-python",
   "name": "python",
   "nbconvert_exporter": "python",
   "pygments_lexer": "ipython3",
   "version": "3.10.10"
  }
 },
 "nbformat": 4,
 "nbformat_minor": 5
}
