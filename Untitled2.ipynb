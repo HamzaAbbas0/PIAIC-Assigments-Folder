{
 "cells": [
  {
   "cell_type": "code",
   "execution_count": 1,
   "id": "8cb9ace0",
   "metadata": {},
   "outputs": [],
   "source": [
    "import numpy as np \n",
    "import pandas as pd"
   ]
  },
  {
   "cell_type": "code",
   "execution_count": 6,
   "id": "e21ccb2e",
   "metadata": {},
   "outputs": [
    {
     "name": "stdout",
     "output_type": "stream",
     "text": [
      "[1, 2, 3]\n"
     ]
    }
   ],
   "source": [
    "a = [1,2,3]\n",
    "b = [4,5,6]\n",
    "b.append(a)\n",
    "print(a)"
   ]
  },
  {
   "cell_type": "code",
   "execution_count": 12,
   "id": "14ba2036",
   "metadata": {},
   "outputs": [
    {
     "ename": "SyntaxError",
     "evalue": "unterminated string literal (detected at line 1) (1323296034.py, line 1)",
     "output_type": "error",
     "traceback": [
      "\u001b[1;36m  Cell \u001b[1;32mIn[12], line 1\u001b[1;36m\u001b[0m\n\u001b[1;33m    sdata = {'Ohio 35000. Texas 71000, Oregon 16000, \"Utah 5000}\u001b[0m\n\u001b[1;37m             ^\u001b[0m\n\u001b[1;31mSyntaxError\u001b[0m\u001b[1;31m:\u001b[0m unterminated string literal (detected at line 1)\n"
     ]
    }
   ],
   "source": [
    "sdata = {'Ohio 35000. Texas 71000, Oregon 16000, \"Utah 5000}\n",
    "states = ['California', 'Ohio Oregon', 'Texas]\n",
    "         f_data = Series(sdata, Index=states) \n",
    "         f data"
   ]
  },
  {
   "cell_type": "code",
   "execution_count": null,
   "id": "3414f6dc",
   "metadata": {},
   "outputs": [],
   "source": [
    "obj = Series(['blue', 'purple', 'yellow'], index=[0, 2, 4]) obj = obj.reindex(range(6), method=\"ffill\")\n",
    "\n",
    "What will be value of obj after running this snippet?"
   ]
  }
 ],
 "metadata": {
  "kernelspec": {
   "display_name": "Python 3 (ipykernel)",
   "language": "python",
   "name": "python3"
  },
  "language_info": {
   "codemirror_mode": {
    "name": "ipython",
    "version": 3
   },
   "file_extension": ".py",
   "mimetype": "text/x-python",
   "name": "python",
   "nbconvert_exporter": "python",
   "pygments_lexer": "ipython3",
   "version": "3.10.10"
  }
 },
 "nbformat": 4,
 "nbformat_minor": 5
}
