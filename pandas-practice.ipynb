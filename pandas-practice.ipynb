{
 "cells": [
  {
   "cell_type": "code",
   "execution_count": 3,
   "id": "651e7962",
   "metadata": {},
   "outputs": [],
   "source": [
    "import numpy as np\n",
    "import pandas as pd\n"
   ]
  },
  {
   "cell_type": "code",
   "execution_count": 4,
   "id": "4312af08",
   "metadata": {},
   "outputs": [],
   "source": [
    "data = {\"Name\": [\"hamza\",\"Ali\",\"Ahmed\"],\n",
    "        \"Marks\":[98,54,58,],\n",
    "        \"Grade\":[\"A+\",\"B\",\"B\"]\n",
    "\n",
    "       }"
   ]
  },
  {
   "cell_type": "code",
   "execution_count": 5,
   "id": "73071313",
   "metadata": {},
   "outputs": [
    {
     "data": {
      "text/html": [
       "<div>\n",
       "<style scoped>\n",
       "    .dataframe tbody tr th:only-of-type {\n",
       "        vertical-align: middle;\n",
       "    }\n",
       "\n",
       "    .dataframe tbody tr th {\n",
       "        vertical-align: top;\n",
       "    }\n",
       "\n",
       "    .dataframe thead th {\n",
       "        text-align: right;\n",
       "    }\n",
       "</style>\n",
       "<table border=\"1\" class=\"dataframe\">\n",
       "  <thead>\n",
       "    <tr style=\"text-align: right;\">\n",
       "      <th></th>\n",
       "      <th>Name</th>\n",
       "      <th>Marks</th>\n",
       "      <th>Grade</th>\n",
       "    </tr>\n",
       "  </thead>\n",
       "  <tbody>\n",
       "    <tr>\n",
       "      <th>0</th>\n",
       "      <td>hamza</td>\n",
       "      <td>98</td>\n",
       "      <td>A+</td>\n",
       "    </tr>\n",
       "    <tr>\n",
       "      <th>1</th>\n",
       "      <td>Ali</td>\n",
       "      <td>54</td>\n",
       "      <td>B</td>\n",
       "    </tr>\n",
       "    <tr>\n",
       "      <th>2</th>\n",
       "      <td>Ahmed</td>\n",
       "      <td>58</td>\n",
       "      <td>B</td>\n",
       "    </tr>\n",
       "  </tbody>\n",
       "</table>\n",
       "</div>"
      ],
      "text/plain": [
       "    Name  Marks Grade\n",
       "0  hamza     98    A+\n",
       "1    Ali     54     B\n",
       "2  Ahmed     58     B"
      ]
     },
     "execution_count": 5,
     "metadata": {},
     "output_type": "execute_result"
    }
   ],
   "source": [
    "df = pd.DataFrame(data)\n",
    "df"
   ]
  },
  {
   "cell_type": "code",
   "execution_count": 6,
   "id": "0b43fe5a",
   "metadata": {},
   "outputs": [
    {
     "data": {
      "text/html": [
       "<div>\n",
       "<style scoped>\n",
       "    .dataframe tbody tr th:only-of-type {\n",
       "        vertical-align: middle;\n",
       "    }\n",
       "\n",
       "    .dataframe tbody tr th {\n",
       "        vertical-align: top;\n",
       "    }\n",
       "\n",
       "    .dataframe thead th {\n",
       "        text-align: right;\n",
       "    }\n",
       "</style>\n",
       "<table border=\"1\" class=\"dataframe\">\n",
       "  <thead>\n",
       "    <tr style=\"text-align: right;\">\n",
       "      <th></th>\n",
       "      <th>Marks</th>\n",
       "    </tr>\n",
       "  </thead>\n",
       "  <tbody>\n",
       "    <tr>\n",
       "      <th>count</th>\n",
       "      <td>3.00000</td>\n",
       "    </tr>\n",
       "    <tr>\n",
       "      <th>mean</th>\n",
       "      <td>70.00000</td>\n",
       "    </tr>\n",
       "    <tr>\n",
       "      <th>std</th>\n",
       "      <td>24.33105</td>\n",
       "    </tr>\n",
       "    <tr>\n",
       "      <th>min</th>\n",
       "      <td>54.00000</td>\n",
       "    </tr>\n",
       "    <tr>\n",
       "      <th>25%</th>\n",
       "      <td>56.00000</td>\n",
       "    </tr>\n",
       "    <tr>\n",
       "      <th>50%</th>\n",
       "      <td>58.00000</td>\n",
       "    </tr>\n",
       "    <tr>\n",
       "      <th>75%</th>\n",
       "      <td>78.00000</td>\n",
       "    </tr>\n",
       "    <tr>\n",
       "      <th>max</th>\n",
       "      <td>98.00000</td>\n",
       "    </tr>\n",
       "  </tbody>\n",
       "</table>\n",
       "</div>"
      ],
      "text/plain": [
       "          Marks\n",
       "count   3.00000\n",
       "mean   70.00000\n",
       "std    24.33105\n",
       "min    54.00000\n",
       "25%    56.00000\n",
       "50%    58.00000\n",
       "75%    78.00000\n",
       "max    98.00000"
      ]
     },
     "execution_count": 6,
     "metadata": {},
     "output_type": "execute_result"
    }
   ],
   "source": [
    "df.describe()"
   ]
  },
  {
   "cell_type": "code",
   "execution_count": 7,
   "id": "206cb922",
   "metadata": {},
   "outputs": [
    {
     "name": "stdout",
     "output_type": "stream",
     "text": [
      "<class 'pandas.core.frame.DataFrame'>\n",
      "RangeIndex: 3 entries, 0 to 2\n",
      "Data columns (total 3 columns):\n",
      " #   Column  Non-Null Count  Dtype \n",
      "---  ------  --------------  ----- \n",
      " 0   Name    3 non-null      object\n",
      " 1   Marks   3 non-null      int64 \n",
      " 2   Grade   3 non-null      object\n",
      "dtypes: int64(1), object(2)\n",
      "memory usage: 200.0+ bytes\n"
     ]
    }
   ],
   "source": [
    "df.info()"
   ]
  },
  {
   "cell_type": "code",
   "execution_count": 8,
   "id": "2f79e4bb",
   "metadata": {},
   "outputs": [
    {
     "data": {
      "text/html": [
       "<div>\n",
       "<style scoped>\n",
       "    .dataframe tbody tr th:only-of-type {\n",
       "        vertical-align: middle;\n",
       "    }\n",
       "\n",
       "    .dataframe tbody tr th {\n",
       "        vertical-align: top;\n",
       "    }\n",
       "\n",
       "    .dataframe thead th {\n",
       "        text-align: right;\n",
       "    }\n",
       "</style>\n",
       "<table border=\"1\" class=\"dataframe\">\n",
       "  <thead>\n",
       "    <tr style=\"text-align: right;\">\n",
       "      <th></th>\n",
       "      <th>Train NO</th>\n",
       "      <th>speed</th>\n",
       "      <th>city</th>\n",
       "    </tr>\n",
       "  </thead>\n",
       "  <tbody>\n",
       "    <tr>\n",
       "      <th>0</th>\n",
       "      <td>sir syed express</td>\n",
       "      <td>65</td>\n",
       "      <td>karachi</td>\n",
       "    </tr>\n",
       "    <tr>\n",
       "      <th>1</th>\n",
       "      <td>tazz gam</td>\n",
       "      <td>66</td>\n",
       "      <td>Islamabad</td>\n",
       "    </tr>\n",
       "    <tr>\n",
       "      <th>2</th>\n",
       "      <td>awami express</td>\n",
       "      <td>76</td>\n",
       "      <td>Lahore</td>\n",
       "    </tr>\n",
       "    <tr>\n",
       "      <th>3</th>\n",
       "      <td>pakistan railways</td>\n",
       "      <td>78</td>\n",
       "      <td>multan</td>\n",
       "    </tr>\n",
       "    <tr>\n",
       "      <th>4</th>\n",
       "      <td>pashwar coach</td>\n",
       "      <td>65</td>\n",
       "      <td>sargodha</td>\n",
       "    </tr>\n",
       "  </tbody>\n",
       "</table>\n",
       "</div>"
      ],
      "text/plain": [
       "            Train NO  speed       city\n",
       "0   sir syed express     65    karachi\n",
       "1           tazz gam     66  Islamabad\n",
       "2      awami express     76     Lahore\n",
       "3  pakistan railways     78     multan\n",
       "4      pashwar coach     65   sargodha"
      ]
     },
     "execution_count": 8,
     "metadata": {},
     "output_type": "execute_result"
    }
   ],
   "source": [
    "trainshedule ={\n",
    "    \"Train NO\":[\"sir syed express\",\"tazz gam\",\"awami express\",\"pakistan railways\",\"pashwar coach\"],\n",
    "    \"speed\": [65,66,76,78,65],\n",
    "    \"city\":[\"karachi\",\"Islamabad\",\"Lahore\",\"multan\",\"sargodha\"]\n",
    "}\n",
    "\n",
    "df1 = pd.DataFrame(trainshedule)\n",
    "df1"
   ]
  },
  {
   "cell_type": "code",
   "execution_count": 9,
   "id": "e1d12849",
   "metadata": {},
   "outputs": [],
   "source": [
    "df1.to_csv(\"train-shedule.csv\",index =False)"
   ]
  },
  {
   "cell_type": "code",
   "execution_count": 10,
   "id": "98a7c30d",
   "metadata": {},
   "outputs": [],
   "source": [
    "hamza =pd.read_csv(\"train-shedule.csv\")"
   ]
  },
  {
   "cell_type": "code",
   "execution_count": 11,
   "id": "03661edb",
   "metadata": {},
   "outputs": [
    {
     "data": {
      "text/html": [
       "<div>\n",
       "<style scoped>\n",
       "    .dataframe tbody tr th:only-of-type {\n",
       "        vertical-align: middle;\n",
       "    }\n",
       "\n",
       "    .dataframe tbody tr th {\n",
       "        vertical-align: top;\n",
       "    }\n",
       "\n",
       "    .dataframe thead th {\n",
       "        text-align: right;\n",
       "    }\n",
       "</style>\n",
       "<table border=\"1\" class=\"dataframe\">\n",
       "  <thead>\n",
       "    <tr style=\"text-align: right;\">\n",
       "      <th></th>\n",
       "      <th>Train NO</th>\n",
       "      <th>speed</th>\n",
       "      <th>city</th>\n",
       "    </tr>\n",
       "  </thead>\n",
       "  <tbody>\n",
       "    <tr>\n",
       "      <th>0</th>\n",
       "      <td>sir syed express</td>\n",
       "      <td>65</td>\n",
       "      <td>karachi</td>\n",
       "    </tr>\n",
       "    <tr>\n",
       "      <th>1</th>\n",
       "      <td>tazz gam</td>\n",
       "      <td>66</td>\n",
       "      <td>Islamabad</td>\n",
       "    </tr>\n",
       "    <tr>\n",
       "      <th>2</th>\n",
       "      <td>awami express</td>\n",
       "      <td>76</td>\n",
       "      <td>Lahore</td>\n",
       "    </tr>\n",
       "    <tr>\n",
       "      <th>3</th>\n",
       "      <td>pakistan railways</td>\n",
       "      <td>78</td>\n",
       "      <td>multan</td>\n",
       "    </tr>\n",
       "    <tr>\n",
       "      <th>4</th>\n",
       "      <td>pashwar coach</td>\n",
       "      <td>65</td>\n",
       "      <td>sargodha</td>\n",
       "    </tr>\n",
       "  </tbody>\n",
       "</table>\n",
       "</div>"
      ],
      "text/plain": [
       "            Train NO  speed       city\n",
       "0   sir syed express     65    karachi\n",
       "1           tazz gam     66  Islamabad\n",
       "2      awami express     76     Lahore\n",
       "3  pakistan railways     78     multan\n",
       "4      pashwar coach     65   sargodha"
      ]
     },
     "execution_count": 11,
     "metadata": {},
     "output_type": "execute_result"
    }
   ],
   "source": [
    "hamza"
   ]
  },
  {
   "cell_type": "code",
   "execution_count": 12,
   "id": "83885fb3",
   "metadata": {},
   "outputs": [
    {
     "data": {
      "text/plain": [
       "0     sir syed express\n",
       "1             tazz gam\n",
       "2        awami express\n",
       "3    pakistan railways\n",
       "4        pashwar coach\n",
       "Name: Train NO, dtype: object"
      ]
     },
     "execution_count": 12,
     "metadata": {},
     "output_type": "execute_result"
    }
   ],
   "source": [
    "hamza[\"Train NO\"]"
   ]
  },
  {
   "cell_type": "code",
   "execution_count": 13,
   "id": "fbcd564e",
   "metadata": {},
   "outputs": [
    {
     "name": "stderr",
     "output_type": "stream",
     "text": [
      "C:\\Users\\HAMZA ABBAS\\AppData\\Local\\Temp\\ipykernel_14100\\1024057290.py:1: SettingWithCopyWarning: \n",
      "A value is trying to be set on a copy of a slice from a DataFrame\n",
      "\n",
      "See the caveats in the documentation: https://pandas.pydata.org/pandas-docs/stable/user_guide/indexing.html#returning-a-view-versus-a-copy\n",
      "  hamza[\"speed\"][1] = 90\n"
     ]
    }
   ],
   "source": [
    "hamza[\"speed\"][1] = 90"
   ]
  },
  {
   "cell_type": "code",
   "execution_count": 14,
   "id": "bb1c1fb2",
   "metadata": {},
   "outputs": [
    {
     "data": {
      "text/html": [
       "<div>\n",
       "<style scoped>\n",
       "    .dataframe tbody tr th:only-of-type {\n",
       "        vertical-align: middle;\n",
       "    }\n",
       "\n",
       "    .dataframe tbody tr th {\n",
       "        vertical-align: top;\n",
       "    }\n",
       "\n",
       "    .dataframe thead th {\n",
       "        text-align: right;\n",
       "    }\n",
       "</style>\n",
       "<table border=\"1\" class=\"dataframe\">\n",
       "  <thead>\n",
       "    <tr style=\"text-align: right;\">\n",
       "      <th></th>\n",
       "      <th>Train NO</th>\n",
       "      <th>speed</th>\n",
       "      <th>city</th>\n",
       "    </tr>\n",
       "  </thead>\n",
       "  <tbody>\n",
       "    <tr>\n",
       "      <th>0</th>\n",
       "      <td>sir syed express</td>\n",
       "      <td>65</td>\n",
       "      <td>karachi</td>\n",
       "    </tr>\n",
       "    <tr>\n",
       "      <th>1</th>\n",
       "      <td>tazz gam</td>\n",
       "      <td>90</td>\n",
       "      <td>Islamabad</td>\n",
       "    </tr>\n",
       "    <tr>\n",
       "      <th>2</th>\n",
       "      <td>awami express</td>\n",
       "      <td>76</td>\n",
       "      <td>Lahore</td>\n",
       "    </tr>\n",
       "    <tr>\n",
       "      <th>3</th>\n",
       "      <td>pakistan railways</td>\n",
       "      <td>78</td>\n",
       "      <td>multan</td>\n",
       "    </tr>\n",
       "    <tr>\n",
       "      <th>4</th>\n",
       "      <td>pashwar coach</td>\n",
       "      <td>65</td>\n",
       "      <td>sargodha</td>\n",
       "    </tr>\n",
       "  </tbody>\n",
       "</table>\n",
       "</div>"
      ],
      "text/plain": [
       "            Train NO  speed       city\n",
       "0   sir syed express     65    karachi\n",
       "1           tazz gam     90  Islamabad\n",
       "2      awami express     76     Lahore\n",
       "3  pakistan railways     78     multan\n",
       "4      pashwar coach     65   sargodha"
      ]
     },
     "execution_count": 14,
     "metadata": {},
     "output_type": "execute_result"
    }
   ],
   "source": [
    "hamza"
   ]
  },
  {
   "cell_type": "code",
   "execution_count": 15,
   "id": "8b5b5cf1",
   "metadata": {},
   "outputs": [],
   "source": [
    "hamza.index=[\"a\",\"b\",\"c\",\"d\",\"e\"]"
   ]
  },
  {
   "cell_type": "code",
   "execution_count": 16,
   "id": "c871eed1",
   "metadata": {},
   "outputs": [
    {
     "data": {
      "text/html": [
       "<div>\n",
       "<style scoped>\n",
       "    .dataframe tbody tr th:only-of-type {\n",
       "        vertical-align: middle;\n",
       "    }\n",
       "\n",
       "    .dataframe tbody tr th {\n",
       "        vertical-align: top;\n",
       "    }\n",
       "\n",
       "    .dataframe thead th {\n",
       "        text-align: right;\n",
       "    }\n",
       "</style>\n",
       "<table border=\"1\" class=\"dataframe\">\n",
       "  <thead>\n",
       "    <tr style=\"text-align: right;\">\n",
       "      <th></th>\n",
       "      <th>Train NO</th>\n",
       "      <th>speed</th>\n",
       "      <th>city</th>\n",
       "    </tr>\n",
       "  </thead>\n",
       "  <tbody>\n",
       "    <tr>\n",
       "      <th>a</th>\n",
       "      <td>sir syed express</td>\n",
       "      <td>65</td>\n",
       "      <td>karachi</td>\n",
       "    </tr>\n",
       "    <tr>\n",
       "      <th>b</th>\n",
       "      <td>tazz gam</td>\n",
       "      <td>90</td>\n",
       "      <td>Islamabad</td>\n",
       "    </tr>\n",
       "    <tr>\n",
       "      <th>c</th>\n",
       "      <td>awami express</td>\n",
       "      <td>76</td>\n",
       "      <td>Lahore</td>\n",
       "    </tr>\n",
       "    <tr>\n",
       "      <th>d</th>\n",
       "      <td>pakistan railways</td>\n",
       "      <td>78</td>\n",
       "      <td>multan</td>\n",
       "    </tr>\n",
       "    <tr>\n",
       "      <th>e</th>\n",
       "      <td>pashwar coach</td>\n",
       "      <td>65</td>\n",
       "      <td>sargodha</td>\n",
       "    </tr>\n",
       "  </tbody>\n",
       "</table>\n",
       "</div>"
      ],
      "text/plain": [
       "            Train NO  speed       city\n",
       "a   sir syed express     65    karachi\n",
       "b           tazz gam     90  Islamabad\n",
       "c      awami express     76     Lahore\n",
       "d  pakistan railways     78     multan\n",
       "e      pashwar coach     65   sargodha"
      ]
     },
     "execution_count": 16,
     "metadata": {},
     "output_type": "execute_result"
    }
   ],
   "source": [
    "hamza"
   ]
  },
  {
   "cell_type": "code",
   "execution_count": 17,
   "id": "eb2bbb3b",
   "metadata": {},
   "outputs": [],
   "source": [
    "newdf = pd.DataFrame(np.random.rand(334,5),index = np.arange(334))"
   ]
  },
  {
   "cell_type": "code",
   "execution_count": 18,
   "id": "3ab74403",
   "metadata": {},
   "outputs": [
    {
     "data": {
      "text/html": [
       "<div>\n",
       "<style scoped>\n",
       "    .dataframe tbody tr th:only-of-type {\n",
       "        vertical-align: middle;\n",
       "    }\n",
       "\n",
       "    .dataframe tbody tr th {\n",
       "        vertical-align: top;\n",
       "    }\n",
       "\n",
       "    .dataframe thead th {\n",
       "        text-align: right;\n",
       "    }\n",
       "</style>\n",
       "<table border=\"1\" class=\"dataframe\">\n",
       "  <thead>\n",
       "    <tr style=\"text-align: right;\">\n",
       "      <th></th>\n",
       "      <th>0</th>\n",
       "      <th>1</th>\n",
       "      <th>2</th>\n",
       "      <th>3</th>\n",
       "      <th>4</th>\n",
       "    </tr>\n",
       "  </thead>\n",
       "  <tbody>\n",
       "    <tr>\n",
       "      <th>0</th>\n",
       "      <td>0.233615</td>\n",
       "      <td>0.078624</td>\n",
       "      <td>0.889691</td>\n",
       "      <td>0.148843</td>\n",
       "      <td>0.457176</td>\n",
       "    </tr>\n",
       "    <tr>\n",
       "      <th>1</th>\n",
       "      <td>0.902637</td>\n",
       "      <td>0.383699</td>\n",
       "      <td>0.983465</td>\n",
       "      <td>0.807020</td>\n",
       "      <td>0.218156</td>\n",
       "    </tr>\n",
       "    <tr>\n",
       "      <th>2</th>\n",
       "      <td>0.169947</td>\n",
       "      <td>0.625596</td>\n",
       "      <td>0.382281</td>\n",
       "      <td>0.222632</td>\n",
       "      <td>0.683530</td>\n",
       "    </tr>\n",
       "    <tr>\n",
       "      <th>3</th>\n",
       "      <td>0.101384</td>\n",
       "      <td>0.464072</td>\n",
       "      <td>0.821338</td>\n",
       "      <td>0.225780</td>\n",
       "      <td>0.676314</td>\n",
       "    </tr>\n",
       "    <tr>\n",
       "      <th>4</th>\n",
       "      <td>0.060564</td>\n",
       "      <td>0.979403</td>\n",
       "      <td>0.272693</td>\n",
       "      <td>0.790301</td>\n",
       "      <td>0.056256</td>\n",
       "    </tr>\n",
       "    <tr>\n",
       "      <th>5</th>\n",
       "      <td>0.087110</td>\n",
       "      <td>0.810635</td>\n",
       "      <td>0.791877</td>\n",
       "      <td>0.077433</td>\n",
       "      <td>0.838169</td>\n",
       "    </tr>\n",
       "  </tbody>\n",
       "</table>\n",
       "</div>"
      ],
      "text/plain": [
       "          0         1         2         3         4\n",
       "0  0.233615  0.078624  0.889691  0.148843  0.457176\n",
       "1  0.902637  0.383699  0.983465  0.807020  0.218156\n",
       "2  0.169947  0.625596  0.382281  0.222632  0.683530\n",
       "3  0.101384  0.464072  0.821338  0.225780  0.676314\n",
       "4  0.060564  0.979403  0.272693  0.790301  0.056256\n",
       "5  0.087110  0.810635  0.791877  0.077433  0.838169"
      ]
     },
     "execution_count": 18,
     "metadata": {},
     "output_type": "execute_result"
    }
   ],
   "source": [
    "newdf.head(6)"
   ]
  },
  {
   "cell_type": "code",
   "execution_count": 19,
   "id": "ef10c692",
   "metadata": {},
   "outputs": [],
   "source": [
    "newdf.columns =list(\"ABCDE\")"
   ]
  },
  {
   "cell_type": "code",
   "execution_count": 20,
   "id": "c756e292",
   "metadata": {},
   "outputs": [
    {
     "data": {
      "text/html": [
       "<div>\n",
       "<style scoped>\n",
       "    .dataframe tbody tr th:only-of-type {\n",
       "        vertical-align: middle;\n",
       "    }\n",
       "\n",
       "    .dataframe tbody tr th {\n",
       "        vertical-align: top;\n",
       "    }\n",
       "\n",
       "    .dataframe thead th {\n",
       "        text-align: right;\n",
       "    }\n",
       "</style>\n",
       "<table border=\"1\" class=\"dataframe\">\n",
       "  <thead>\n",
       "    <tr style=\"text-align: right;\">\n",
       "      <th></th>\n",
       "      <th>A</th>\n",
       "      <th>B</th>\n",
       "      <th>C</th>\n",
       "      <th>D</th>\n",
       "      <th>E</th>\n",
       "    </tr>\n",
       "  </thead>\n",
       "  <tbody>\n",
       "    <tr>\n",
       "      <th>0</th>\n",
       "      <td>0.233615</td>\n",
       "      <td>0.078624</td>\n",
       "      <td>0.889691</td>\n",
       "      <td>0.148843</td>\n",
       "      <td>0.457176</td>\n",
       "    </tr>\n",
       "    <tr>\n",
       "      <th>1</th>\n",
       "      <td>0.902637</td>\n",
       "      <td>0.383699</td>\n",
       "      <td>0.983465</td>\n",
       "      <td>0.807020</td>\n",
       "      <td>0.218156</td>\n",
       "    </tr>\n",
       "    <tr>\n",
       "      <th>2</th>\n",
       "      <td>0.169947</td>\n",
       "      <td>0.625596</td>\n",
       "      <td>0.382281</td>\n",
       "      <td>0.222632</td>\n",
       "      <td>0.683530</td>\n",
       "    </tr>\n",
       "    <tr>\n",
       "      <th>3</th>\n",
       "      <td>0.101384</td>\n",
       "      <td>0.464072</td>\n",
       "      <td>0.821338</td>\n",
       "      <td>0.225780</td>\n",
       "      <td>0.676314</td>\n",
       "    </tr>\n",
       "    <tr>\n",
       "      <th>4</th>\n",
       "      <td>0.060564</td>\n",
       "      <td>0.979403</td>\n",
       "      <td>0.272693</td>\n",
       "      <td>0.790301</td>\n",
       "      <td>0.056256</td>\n",
       "    </tr>\n",
       "    <tr>\n",
       "      <th>...</th>\n",
       "      <td>...</td>\n",
       "      <td>...</td>\n",
       "      <td>...</td>\n",
       "      <td>...</td>\n",
       "      <td>...</td>\n",
       "    </tr>\n",
       "    <tr>\n",
       "      <th>329</th>\n",
       "      <td>0.599452</td>\n",
       "      <td>0.875017</td>\n",
       "      <td>0.367471</td>\n",
       "      <td>0.786938</td>\n",
       "      <td>0.696662</td>\n",
       "    </tr>\n",
       "    <tr>\n",
       "      <th>330</th>\n",
       "      <td>0.415779</td>\n",
       "      <td>0.818267</td>\n",
       "      <td>0.658153</td>\n",
       "      <td>0.956083</td>\n",
       "      <td>0.663642</td>\n",
       "    </tr>\n",
       "    <tr>\n",
       "      <th>331</th>\n",
       "      <td>0.445197</td>\n",
       "      <td>0.754753</td>\n",
       "      <td>0.722473</td>\n",
       "      <td>0.405522</td>\n",
       "      <td>0.094281</td>\n",
       "    </tr>\n",
       "    <tr>\n",
       "      <th>332</th>\n",
       "      <td>0.237295</td>\n",
       "      <td>0.323005</td>\n",
       "      <td>0.816622</td>\n",
       "      <td>0.942244</td>\n",
       "      <td>0.541248</td>\n",
       "    </tr>\n",
       "    <tr>\n",
       "      <th>333</th>\n",
       "      <td>0.123289</td>\n",
       "      <td>0.818369</td>\n",
       "      <td>0.878061</td>\n",
       "      <td>0.007160</td>\n",
       "      <td>0.324715</td>\n",
       "    </tr>\n",
       "  </tbody>\n",
       "</table>\n",
       "<p>334 rows × 5 columns</p>\n",
       "</div>"
      ],
      "text/plain": [
       "            A         B         C         D         E\n",
       "0    0.233615  0.078624  0.889691  0.148843  0.457176\n",
       "1    0.902637  0.383699  0.983465  0.807020  0.218156\n",
       "2    0.169947  0.625596  0.382281  0.222632  0.683530\n",
       "3    0.101384  0.464072  0.821338  0.225780  0.676314\n",
       "4    0.060564  0.979403  0.272693  0.790301  0.056256\n",
       "..        ...       ...       ...       ...       ...\n",
       "329  0.599452  0.875017  0.367471  0.786938  0.696662\n",
       "330  0.415779  0.818267  0.658153  0.956083  0.663642\n",
       "331  0.445197  0.754753  0.722473  0.405522  0.094281\n",
       "332  0.237295  0.323005  0.816622  0.942244  0.541248\n",
       "333  0.123289  0.818369  0.878061  0.007160  0.324715\n",
       "\n",
       "[334 rows x 5 columns]"
      ]
     },
     "execution_count": 20,
     "metadata": {},
     "output_type": "execute_result"
    }
   ],
   "source": [
    "newdf"
   ]
  },
  {
   "cell_type": "code",
   "execution_count": 21,
   "id": "78f51c66",
   "metadata": {},
   "outputs": [],
   "source": [
    "newdf.loc[4,\"A\"] =99999"
   ]
  },
  {
   "cell_type": "code",
   "execution_count": 22,
   "id": "247593d7",
   "metadata": {},
   "outputs": [
    {
     "data": {
      "text/html": [
       "<div>\n",
       "<style scoped>\n",
       "    .dataframe tbody tr th:only-of-type {\n",
       "        vertical-align: middle;\n",
       "    }\n",
       "\n",
       "    .dataframe tbody tr th {\n",
       "        vertical-align: top;\n",
       "    }\n",
       "\n",
       "    .dataframe thead th {\n",
       "        text-align: right;\n",
       "    }\n",
       "</style>\n",
       "<table border=\"1\" class=\"dataframe\">\n",
       "  <thead>\n",
       "    <tr style=\"text-align: right;\">\n",
       "      <th></th>\n",
       "      <th>A</th>\n",
       "      <th>B</th>\n",
       "      <th>C</th>\n",
       "      <th>D</th>\n",
       "      <th>E</th>\n",
       "    </tr>\n",
       "  </thead>\n",
       "  <tbody>\n",
       "    <tr>\n",
       "      <th>0</th>\n",
       "      <td>0.233615</td>\n",
       "      <td>0.078624</td>\n",
       "      <td>0.889691</td>\n",
       "      <td>0.148843</td>\n",
       "      <td>0.457176</td>\n",
       "    </tr>\n",
       "    <tr>\n",
       "      <th>1</th>\n",
       "      <td>0.902637</td>\n",
       "      <td>0.383699</td>\n",
       "      <td>0.983465</td>\n",
       "      <td>0.807020</td>\n",
       "      <td>0.218156</td>\n",
       "    </tr>\n",
       "    <tr>\n",
       "      <th>2</th>\n",
       "      <td>0.169947</td>\n",
       "      <td>0.625596</td>\n",
       "      <td>0.382281</td>\n",
       "      <td>0.222632</td>\n",
       "      <td>0.683530</td>\n",
       "    </tr>\n",
       "    <tr>\n",
       "      <th>3</th>\n",
       "      <td>0.101384</td>\n",
       "      <td>0.464072</td>\n",
       "      <td>0.821338</td>\n",
       "      <td>0.225780</td>\n",
       "      <td>0.676314</td>\n",
       "    </tr>\n",
       "    <tr>\n",
       "      <th>4</th>\n",
       "      <td>99999.000000</td>\n",
       "      <td>0.979403</td>\n",
       "      <td>0.272693</td>\n",
       "      <td>0.790301</td>\n",
       "      <td>0.056256</td>\n",
       "    </tr>\n",
       "  </tbody>\n",
       "</table>\n",
       "</div>"
      ],
      "text/plain": [
       "              A         B         C         D         E\n",
       "0      0.233615  0.078624  0.889691  0.148843  0.457176\n",
       "1      0.902637  0.383699  0.983465  0.807020  0.218156\n",
       "2      0.169947  0.625596  0.382281  0.222632  0.683530\n",
       "3      0.101384  0.464072  0.821338  0.225780  0.676314\n",
       "4  99999.000000  0.979403  0.272693  0.790301  0.056256"
      ]
     },
     "execution_count": 22,
     "metadata": {},
     "output_type": "execute_result"
    }
   ],
   "source": [
    "newdf.head()"
   ]
  },
  {
   "cell_type": "code",
   "execution_count": 23,
   "id": "40f563c9",
   "metadata": {},
   "outputs": [],
   "source": [
    "rgfdata = newdf.copy()"
   ]
  },
  {
   "cell_type": "code",
   "execution_count": 24,
   "id": "c66023eb",
   "metadata": {},
   "outputs": [
    {
     "data": {
      "text/html": [
       "<div>\n",
       "<style scoped>\n",
       "    .dataframe tbody tr th:only-of-type {\n",
       "        vertical-align: middle;\n",
       "    }\n",
       "\n",
       "    .dataframe tbody tr th {\n",
       "        vertical-align: top;\n",
       "    }\n",
       "\n",
       "    .dataframe thead th {\n",
       "        text-align: right;\n",
       "    }\n",
       "</style>\n",
       "<table border=\"1\" class=\"dataframe\">\n",
       "  <thead>\n",
       "    <tr style=\"text-align: right;\">\n",
       "      <th></th>\n",
       "      <th>A</th>\n",
       "      <th>B</th>\n",
       "      <th>C</th>\n",
       "      <th>D</th>\n",
       "      <th>E</th>\n",
       "    </tr>\n",
       "  </thead>\n",
       "  <tbody>\n",
       "    <tr>\n",
       "      <th>0</th>\n",
       "      <td>0.233615</td>\n",
       "      <td>0.078624</td>\n",
       "      <td>0.889691</td>\n",
       "      <td>0.148843</td>\n",
       "      <td>0.457176</td>\n",
       "    </tr>\n",
       "    <tr>\n",
       "      <th>1</th>\n",
       "      <td>0.902637</td>\n",
       "      <td>0.383699</td>\n",
       "      <td>0.983465</td>\n",
       "      <td>0.807020</td>\n",
       "      <td>0.218156</td>\n",
       "    </tr>\n",
       "    <tr>\n",
       "      <th>2</th>\n",
       "      <td>0.169947</td>\n",
       "      <td>0.625596</td>\n",
       "      <td>0.382281</td>\n",
       "      <td>0.222632</td>\n",
       "      <td>0.683530</td>\n",
       "    </tr>\n",
       "    <tr>\n",
       "      <th>3</th>\n",
       "      <td>0.101384</td>\n",
       "      <td>0.464072</td>\n",
       "      <td>0.821338</td>\n",
       "      <td>0.225780</td>\n",
       "      <td>0.676314</td>\n",
       "    </tr>\n",
       "    <tr>\n",
       "      <th>4</th>\n",
       "      <td>99999.000000</td>\n",
       "      <td>0.979403</td>\n",
       "      <td>0.272693</td>\n",
       "      <td>0.790301</td>\n",
       "      <td>0.056256</td>\n",
       "    </tr>\n",
       "  </tbody>\n",
       "</table>\n",
       "</div>"
      ],
      "text/plain": [
       "              A         B         C         D         E\n",
       "0      0.233615  0.078624  0.889691  0.148843  0.457176\n",
       "1      0.902637  0.383699  0.983465  0.807020  0.218156\n",
       "2      0.169947  0.625596  0.382281  0.222632  0.683530\n",
       "3      0.101384  0.464072  0.821338  0.225780  0.676314\n",
       "4  99999.000000  0.979403  0.272693  0.790301  0.056256"
      ]
     },
     "execution_count": 24,
     "metadata": {},
     "output_type": "execute_result"
    }
   ],
   "source": [
    "rgfdata.head()"
   ]
  },
  {
   "cell_type": "code",
   "execution_count": 26,
   "id": "37f6fa55",
   "metadata": {},
   "outputs": [],
   "source": [
    "rgfdata.iloc[4,1] =0.98"
   ]
  },
  {
   "cell_type": "code",
   "execution_count": 27,
   "id": "10834ebc",
   "metadata": {},
   "outputs": [
    {
     "data": {
      "text/html": [
       "<div>\n",
       "<style scoped>\n",
       "    .dataframe tbody tr th:only-of-type {\n",
       "        vertical-align: middle;\n",
       "    }\n",
       "\n",
       "    .dataframe tbody tr th {\n",
       "        vertical-align: top;\n",
       "    }\n",
       "\n",
       "    .dataframe thead th {\n",
       "        text-align: right;\n",
       "    }\n",
       "</style>\n",
       "<table border=\"1\" class=\"dataframe\">\n",
       "  <thead>\n",
       "    <tr style=\"text-align: right;\">\n",
       "      <th></th>\n",
       "      <th>A</th>\n",
       "      <th>B</th>\n",
       "      <th>C</th>\n",
       "      <th>D</th>\n",
       "      <th>E</th>\n",
       "    </tr>\n",
       "  </thead>\n",
       "  <tbody>\n",
       "    <tr>\n",
       "      <th>0</th>\n",
       "      <td>0.233615</td>\n",
       "      <td>0.078624</td>\n",
       "      <td>0.889691</td>\n",
       "      <td>0.148843</td>\n",
       "      <td>0.457176</td>\n",
       "    </tr>\n",
       "    <tr>\n",
       "      <th>1</th>\n",
       "      <td>0.902637</td>\n",
       "      <td>0.383699</td>\n",
       "      <td>0.983465</td>\n",
       "      <td>0.807020</td>\n",
       "      <td>0.218156</td>\n",
       "    </tr>\n",
       "    <tr>\n",
       "      <th>2</th>\n",
       "      <td>0.169947</td>\n",
       "      <td>0.625596</td>\n",
       "      <td>0.382281</td>\n",
       "      <td>0.222632</td>\n",
       "      <td>0.683530</td>\n",
       "    </tr>\n",
       "    <tr>\n",
       "      <th>3</th>\n",
       "      <td>0.101384</td>\n",
       "      <td>0.464072</td>\n",
       "      <td>0.821338</td>\n",
       "      <td>0.225780</td>\n",
       "      <td>0.676314</td>\n",
       "    </tr>\n",
       "    <tr>\n",
       "      <th>4</th>\n",
       "      <td>99999.000000</td>\n",
       "      <td>0.980000</td>\n",
       "      <td>0.272693</td>\n",
       "      <td>0.790301</td>\n",
       "      <td>0.056256</td>\n",
       "    </tr>\n",
       "  </tbody>\n",
       "</table>\n",
       "</div>"
      ],
      "text/plain": [
       "              A         B         C         D         E\n",
       "0      0.233615  0.078624  0.889691  0.148843  0.457176\n",
       "1      0.902637  0.383699  0.983465  0.807020  0.218156\n",
       "2      0.169947  0.625596  0.382281  0.222632  0.683530\n",
       "3      0.101384  0.464072  0.821338  0.225780  0.676314\n",
       "4  99999.000000  0.980000  0.272693  0.790301  0.056256"
      ]
     },
     "execution_count": 27,
     "metadata": {},
     "output_type": "execute_result"
    }
   ],
   "source": [
    "rgfdata.head()"
   ]
  },
  {
   "cell_type": "code",
   "execution_count": 28,
   "id": "bffd391e",
   "metadata": {},
   "outputs": [
    {
     "data": {
      "text/html": [
       "<div>\n",
       "<style scoped>\n",
       "    .dataframe tbody tr th:only-of-type {\n",
       "        vertical-align: middle;\n",
       "    }\n",
       "\n",
       "    .dataframe tbody tr th {\n",
       "        vertical-align: top;\n",
       "    }\n",
       "\n",
       "    .dataframe thead th {\n",
       "        text-align: right;\n",
       "    }\n",
       "</style>\n",
       "<table border=\"1\" class=\"dataframe\">\n",
       "  <thead>\n",
       "    <tr style=\"text-align: right;\">\n",
       "      <th></th>\n",
       "      <th>A</th>\n",
       "      <th>B</th>\n",
       "      <th>C</th>\n",
       "      <th>D</th>\n",
       "      <th>E</th>\n",
       "    </tr>\n",
       "  </thead>\n",
       "  <tbody>\n",
       "    <tr>\n",
       "      <th>0</th>\n",
       "      <td>0.233615</td>\n",
       "      <td>0.078624</td>\n",
       "      <td>0.889691</td>\n",
       "      <td>0.148843</td>\n",
       "      <td>0.457176</td>\n",
       "    </tr>\n",
       "    <tr>\n",
       "      <th>1</th>\n",
       "      <td>0.902637</td>\n",
       "      <td>0.383699</td>\n",
       "      <td>0.983465</td>\n",
       "      <td>0.807020</td>\n",
       "      <td>0.218156</td>\n",
       "    </tr>\n",
       "    <tr>\n",
       "      <th>2</th>\n",
       "      <td>0.169947</td>\n",
       "      <td>0.625596</td>\n",
       "      <td>0.382281</td>\n",
       "      <td>0.222632</td>\n",
       "      <td>0.683530</td>\n",
       "    </tr>\n",
       "    <tr>\n",
       "      <th>3</th>\n",
       "      <td>0.101384</td>\n",
       "      <td>0.464072</td>\n",
       "      <td>0.821338</td>\n",
       "      <td>0.225780</td>\n",
       "      <td>0.676314</td>\n",
       "    </tr>\n",
       "    <tr>\n",
       "      <th>4</th>\n",
       "      <td>99999.000000</td>\n",
       "      <td>0.979403</td>\n",
       "      <td>0.272693</td>\n",
       "      <td>0.790301</td>\n",
       "      <td>0.056256</td>\n",
       "    </tr>\n",
       "    <tr>\n",
       "      <th>...</th>\n",
       "      <td>...</td>\n",
       "      <td>...</td>\n",
       "      <td>...</td>\n",
       "      <td>...</td>\n",
       "      <td>...</td>\n",
       "    </tr>\n",
       "    <tr>\n",
       "      <th>329</th>\n",
       "      <td>0.599452</td>\n",
       "      <td>0.875017</td>\n",
       "      <td>0.367471</td>\n",
       "      <td>0.786938</td>\n",
       "      <td>0.696662</td>\n",
       "    </tr>\n",
       "    <tr>\n",
       "      <th>330</th>\n",
       "      <td>0.415779</td>\n",
       "      <td>0.818267</td>\n",
       "      <td>0.658153</td>\n",
       "      <td>0.956083</td>\n",
       "      <td>0.663642</td>\n",
       "    </tr>\n",
       "    <tr>\n",
       "      <th>331</th>\n",
       "      <td>0.445197</td>\n",
       "      <td>0.754753</td>\n",
       "      <td>0.722473</td>\n",
       "      <td>0.405522</td>\n",
       "      <td>0.094281</td>\n",
       "    </tr>\n",
       "    <tr>\n",
       "      <th>332</th>\n",
       "      <td>0.237295</td>\n",
       "      <td>0.323005</td>\n",
       "      <td>0.816622</td>\n",
       "      <td>0.942244</td>\n",
       "      <td>0.541248</td>\n",
       "    </tr>\n",
       "    <tr>\n",
       "      <th>333</th>\n",
       "      <td>0.123289</td>\n",
       "      <td>0.818369</td>\n",
       "      <td>0.878061</td>\n",
       "      <td>0.007160</td>\n",
       "      <td>0.324715</td>\n",
       "    </tr>\n",
       "  </tbody>\n",
       "</table>\n",
       "<p>334 rows × 5 columns</p>\n",
       "</div>"
      ],
      "text/plain": [
       "                A         B         C         D         E\n",
       "0        0.233615  0.078624  0.889691  0.148843  0.457176\n",
       "1        0.902637  0.383699  0.983465  0.807020  0.218156\n",
       "2        0.169947  0.625596  0.382281  0.222632  0.683530\n",
       "3        0.101384  0.464072  0.821338  0.225780  0.676314\n",
       "4    99999.000000  0.979403  0.272693  0.790301  0.056256\n",
       "..            ...       ...       ...       ...       ...\n",
       "329      0.599452  0.875017  0.367471  0.786938  0.696662\n",
       "330      0.415779  0.818267  0.658153  0.956083  0.663642\n",
       "331      0.445197  0.754753  0.722473  0.405522  0.094281\n",
       "332      0.237295  0.323005  0.816622  0.942244  0.541248\n",
       "333      0.123289  0.818369  0.878061  0.007160  0.324715\n",
       "\n",
       "[334 rows x 5 columns]"
      ]
     },
     "execution_count": 28,
     "metadata": {},
     "output_type": "execute_result"
    }
   ],
   "source": [
    "newdf"
   ]
  },
  {
   "cell_type": "code",
   "execution_count": 29,
   "id": "4870becc",
   "metadata": {},
   "outputs": [],
   "source": [
    "rgfdata.loc[4,\"A\"] =0.98"
   ]
  },
  {
   "cell_type": "code",
   "execution_count": 30,
   "id": "6265f539",
   "metadata": {},
   "outputs": [
    {
     "data": {
      "text/html": [
       "<div>\n",
       "<style scoped>\n",
       "    .dataframe tbody tr th:only-of-type {\n",
       "        vertical-align: middle;\n",
       "    }\n",
       "\n",
       "    .dataframe tbody tr th {\n",
       "        vertical-align: top;\n",
       "    }\n",
       "\n",
       "    .dataframe thead th {\n",
       "        text-align: right;\n",
       "    }\n",
       "</style>\n",
       "<table border=\"1\" class=\"dataframe\">\n",
       "  <thead>\n",
       "    <tr style=\"text-align: right;\">\n",
       "      <th></th>\n",
       "      <th>A</th>\n",
       "      <th>B</th>\n",
       "      <th>C</th>\n",
       "      <th>D</th>\n",
       "      <th>E</th>\n",
       "    </tr>\n",
       "  </thead>\n",
       "  <tbody>\n",
       "    <tr>\n",
       "      <th>0</th>\n",
       "      <td>0.233615</td>\n",
       "      <td>0.078624</td>\n",
       "      <td>0.889691</td>\n",
       "      <td>0.148843</td>\n",
       "      <td>0.457176</td>\n",
       "    </tr>\n",
       "    <tr>\n",
       "      <th>1</th>\n",
       "      <td>0.902637</td>\n",
       "      <td>0.383699</td>\n",
       "      <td>0.983465</td>\n",
       "      <td>0.807020</td>\n",
       "      <td>0.218156</td>\n",
       "    </tr>\n",
       "    <tr>\n",
       "      <th>2</th>\n",
       "      <td>0.169947</td>\n",
       "      <td>0.625596</td>\n",
       "      <td>0.382281</td>\n",
       "      <td>0.222632</td>\n",
       "      <td>0.683530</td>\n",
       "    </tr>\n",
       "    <tr>\n",
       "      <th>3</th>\n",
       "      <td>0.101384</td>\n",
       "      <td>0.464072</td>\n",
       "      <td>0.821338</td>\n",
       "      <td>0.225780</td>\n",
       "      <td>0.676314</td>\n",
       "    </tr>\n",
       "    <tr>\n",
       "      <th>4</th>\n",
       "      <td>0.980000</td>\n",
       "      <td>0.980000</td>\n",
       "      <td>0.272693</td>\n",
       "      <td>0.790301</td>\n",
       "      <td>0.056256</td>\n",
       "    </tr>\n",
       "  </tbody>\n",
       "</table>\n",
       "</div>"
      ],
      "text/plain": [
       "          A         B         C         D         E\n",
       "0  0.233615  0.078624  0.889691  0.148843  0.457176\n",
       "1  0.902637  0.383699  0.983465  0.807020  0.218156\n",
       "2  0.169947  0.625596  0.382281  0.222632  0.683530\n",
       "3  0.101384  0.464072  0.821338  0.225780  0.676314\n",
       "4  0.980000  0.980000  0.272693  0.790301  0.056256"
      ]
     },
     "execution_count": 30,
     "metadata": {},
     "output_type": "execute_result"
    }
   ],
   "source": [
    "rgfdata.head()"
   ]
  },
  {
   "cell_type": "code",
   "execution_count": null,
   "id": "5593bec4",
   "metadata": {},
   "outputs": [],
   "source": []
  },
  {
   "cell_type": "code",
   "execution_count": 31,
   "id": "7ecd85d7",
   "metadata": {},
   "outputs": [],
   "source": [
    "new=rgfdata.loc[:,[\"A\",\"B\"]]"
   ]
  },
  {
   "cell_type": "code",
   "execution_count": 32,
   "id": "1bb15c6e",
   "metadata": {},
   "outputs": [
    {
     "data": {
      "text/html": [
       "<div>\n",
       "<style scoped>\n",
       "    .dataframe tbody tr th:only-of-type {\n",
       "        vertical-align: middle;\n",
       "    }\n",
       "\n",
       "    .dataframe tbody tr th {\n",
       "        vertical-align: top;\n",
       "    }\n",
       "\n",
       "    .dataframe thead th {\n",
       "        text-align: right;\n",
       "    }\n",
       "</style>\n",
       "<table border=\"1\" class=\"dataframe\">\n",
       "  <thead>\n",
       "    <tr style=\"text-align: right;\">\n",
       "      <th></th>\n",
       "      <th>A</th>\n",
       "      <th>B</th>\n",
       "    </tr>\n",
       "  </thead>\n",
       "  <tbody>\n",
       "    <tr>\n",
       "      <th>0</th>\n",
       "      <td>0.233615</td>\n",
       "      <td>0.078624</td>\n",
       "    </tr>\n",
       "    <tr>\n",
       "      <th>1</th>\n",
       "      <td>0.902637</td>\n",
       "      <td>0.383699</td>\n",
       "    </tr>\n",
       "    <tr>\n",
       "      <th>2</th>\n",
       "      <td>0.169947</td>\n",
       "      <td>0.625596</td>\n",
       "    </tr>\n",
       "    <tr>\n",
       "      <th>3</th>\n",
       "      <td>0.101384</td>\n",
       "      <td>0.464072</td>\n",
       "    </tr>\n",
       "    <tr>\n",
       "      <th>4</th>\n",
       "      <td>0.980000</td>\n",
       "      <td>0.980000</td>\n",
       "    </tr>\n",
       "    <tr>\n",
       "      <th>...</th>\n",
       "      <td>...</td>\n",
       "      <td>...</td>\n",
       "    </tr>\n",
       "    <tr>\n",
       "      <th>329</th>\n",
       "      <td>0.599452</td>\n",
       "      <td>0.875017</td>\n",
       "    </tr>\n",
       "    <tr>\n",
       "      <th>330</th>\n",
       "      <td>0.415779</td>\n",
       "      <td>0.818267</td>\n",
       "    </tr>\n",
       "    <tr>\n",
       "      <th>331</th>\n",
       "      <td>0.445197</td>\n",
       "      <td>0.754753</td>\n",
       "    </tr>\n",
       "    <tr>\n",
       "      <th>332</th>\n",
       "      <td>0.237295</td>\n",
       "      <td>0.323005</td>\n",
       "    </tr>\n",
       "    <tr>\n",
       "      <th>333</th>\n",
       "      <td>0.123289</td>\n",
       "      <td>0.818369</td>\n",
       "    </tr>\n",
       "  </tbody>\n",
       "</table>\n",
       "<p>334 rows × 2 columns</p>\n",
       "</div>"
      ],
      "text/plain": [
       "            A         B\n",
       "0    0.233615  0.078624\n",
       "1    0.902637  0.383699\n",
       "2    0.169947  0.625596\n",
       "3    0.101384  0.464072\n",
       "4    0.980000  0.980000\n",
       "..        ...       ...\n",
       "329  0.599452  0.875017\n",
       "330  0.415779  0.818267\n",
       "331  0.445197  0.754753\n",
       "332  0.237295  0.323005\n",
       "333  0.123289  0.818369\n",
       "\n",
       "[334 rows x 2 columns]"
      ]
     },
     "execution_count": 32,
     "metadata": {},
     "output_type": "execute_result"
    }
   ],
   "source": [
    "new"
   ]
  },
  {
   "cell_type": "code",
   "execution_count": 33,
   "id": "d4ec4297",
   "metadata": {},
   "outputs": [],
   "source": [
    "new=new.loc[(new[\"A\"]<0.1)]"
   ]
  },
  {
   "cell_type": "code",
   "execution_count": 34,
   "id": "f07f0adf",
   "metadata": {},
   "outputs": [
    {
     "name": "stdout",
     "output_type": "stream",
     "text": [
      "<class 'pandas.core.frame.DataFrame'>\n",
      "Int64Index: 33 entries, 5 to 317\n",
      "Data columns (total 2 columns):\n",
      " #   Column  Non-Null Count  Dtype  \n",
      "---  ------  --------------  -----  \n",
      " 0   A       33 non-null     float64\n",
      " 1   B       33 non-null     float64\n",
      "dtypes: float64(2)\n",
      "memory usage: 792.0 bytes\n"
     ]
    }
   ],
   "source": [
    "new.info()"
   ]
  },
  {
   "cell_type": "code",
   "execution_count": 35,
   "id": "6232ca6e",
   "metadata": {},
   "outputs": [
    {
     "data": {
      "text/plain": [
       "A    33\n",
       "B    33\n",
       "dtype: int64"
      ]
     },
     "execution_count": 35,
     "metadata": {},
     "output_type": "execute_result"
    }
   ],
   "source": [
    "new.count()"
   ]
  },
  {
   "cell_type": "code",
   "execution_count": 36,
   "id": "9f06f743",
   "metadata": {},
   "outputs": [
    {
     "data": {
      "text/plain": [
       "(33, 2)"
      ]
     },
     "execution_count": 36,
     "metadata": {},
     "output_type": "execute_result"
    }
   ],
   "source": [
    "new.shape"
   ]
  },
  {
   "cell_type": "code",
   "execution_count": null,
   "id": "ed8f2360",
   "metadata": {},
   "outputs": [],
   "source": [
    "new"
   ]
  },
  {
   "cell_type": "code",
   "execution_count": null,
   "id": "c326810f",
   "metadata": {},
   "outputs": [],
   "source": [
    "rgfdata"
   ]
  },
  {
   "cell_type": "code",
   "execution_count": null,
   "id": "312f785e",
   "metadata": {},
   "outputs": [],
   "source": [
    "rgfdata.loc[0,\"A\"]"
   ]
  },
  {
   "cell_type": "code",
   "execution_count": null,
   "id": "e671a1da",
   "metadata": {},
   "outputs": [],
   "source": [
    "rgfdata.iloc[[0,4],[1,2]]"
   ]
  },
  {
   "cell_type": "code",
   "execution_count": null,
   "id": "913eb87c",
   "metadata": {},
   "outputs": [],
   "source": [
    "rgfdata"
   ]
  },
  {
   "cell_type": "code",
   "execution_count": null,
   "id": "99490d31",
   "metadata": {},
   "outputs": [],
   "source": [
    "rgfdata.drop([\"A\"],axis=1)"
   ]
  },
  {
   "cell_type": "code",
   "execution_count": null,
   "id": "100d70af",
   "metadata": {},
   "outputs": [],
   "source": [
    "rgfdata.drop([\"A\"],axis=1,inplace=True)"
   ]
  },
  {
   "cell_type": "code",
   "execution_count": null,
   "id": "5f4e4edd",
   "metadata": {},
   "outputs": [],
   "source": [
    "rgfdata = rgfdata.drop([\"C\"],axis=1)"
   ]
  },
  {
   "cell_type": "code",
   "execution_count": null,
   "id": "0f2f7b96",
   "metadata": {},
   "outputs": [],
   "source": [
    "rgfdata"
   ]
  },
  {
   "cell_type": "code",
   "execution_count": null,
   "id": "9b9dac3c",
   "metadata": {},
   "outputs": [],
   "source": [
    "rgfdata.reset_index(drop=True,inplace=True)"
   ]
  },
  {
   "cell_type": "code",
   "execution_count": null,
   "id": "23465e1a",
   "metadata": {},
   "outputs": [],
   "source": [
    "rgfdata.head()"
   ]
  },
  {
   "cell_type": "code",
   "execution_count": null,
   "id": "499c0a5e",
   "metadata": {},
   "outputs": [],
   "source": [
    "rgfdata[\"D\"]"
   ]
  },
  {
   "cell_type": "code",
   "execution_count": null,
   "id": "33f9d007",
   "metadata": {},
   "outputs": [],
   "source": [
    "rgfdata.info()"
   ]
  },
  {
   "cell_type": "code",
   "execution_count": null,
   "id": "2ea2482b",
   "metadata": {},
   "outputs": [],
   "source": [
    "rgfdata[\"D\"].isnull()"
   ]
  },
  {
   "cell_type": "code",
   "execution_count": null,
   "id": "0e498412",
   "metadata": {},
   "outputs": [],
   "source": [
    "\n",
    "# create a sample DataFrame with duplicate rows\n",
    "data = {'Name': ['Alice', 'Bob', 'Charlie', 'Alice', 'David'],\n",
    "        'Age': [25, 30, 35, 25, 40],\n",
    "        'City': ['New York', 'London', 'Paris', 'New York', 'Sydney']}\n",
    "df = pd.DataFrame(data)\n",
    "\n",
    "df"
   ]
  },
  {
   "cell_type": "code",
   "execution_count": null,
   "id": "f05fad31",
   "metadata": {},
   "outputs": [],
   "source": [
    "# identify duplicate rows\n",
    "duplicates = df.duplicated()"
   ]
  },
  {
   "cell_type": "code",
   "execution_count": null,
   "id": "07c2e97d",
   "metadata": {},
   "outputs": [],
   "source": [
    "duplicates"
   ]
  },
  {
   "cell_type": "code",
   "execution_count": null,
   "id": "134bfb74",
   "metadata": {},
   "outputs": [],
   "source": [
    "num_duplicates = duplicates.sum()"
   ]
  },
  {
   "cell_type": "code",
   "execution_count": null,
   "id": "84295371",
   "metadata": {},
   "outputs": [],
   "source": [
    "duplicates"
   ]
  },
  {
   "cell_type": "code",
   "execution_count": null,
   "id": "cea8dbaf",
   "metadata": {},
   "outputs": [],
   "source": [
    "df"
   ]
  },
  {
   "cell_type": "code",
   "execution_count": null,
   "id": "aa017cab",
   "metadata": {},
   "outputs": [],
   "source": [
    "df.drop_duplicates(subset=[\"Name\"],inplace=True)"
   ]
  },
  {
   "cell_type": "code",
   "execution_count": null,
   "id": "ac910693",
   "metadata": {},
   "outputs": [],
   "source": [
    "df"
   ]
  },
  {
   "cell_type": "code",
   "execution_count": null,
   "id": "c94cddf9",
   "metadata": {},
   "outputs": [],
   "source": [
    "rgfdata"
   ]
  },
  {
   "cell_type": "code",
   "execution_count": null,
   "id": "d2a99d5d",
   "metadata": {},
   "outputs": [],
   "source": []
  },
  {
   "cell_type": "code",
   "execution_count": null,
   "id": "b4cc3648",
   "metadata": {},
   "outputs": [],
   "source": [
    "rgfdata.head(4)"
   ]
  },
  {
   "cell_type": "code",
   "execution_count": null,
   "id": "29582b1d",
   "metadata": {},
   "outputs": [],
   "source": [
    "rgfdata.loc[1,\"D\"] =0.458055"
   ]
  },
  {
   "cell_type": "code",
   "execution_count": null,
   "id": "3f2a2529",
   "metadata": {},
   "outputs": [],
   "source": [
    "rgfdata.head(4)"
   ]
  },
  {
   "cell_type": "code",
   "execution_count": null,
   "id": "b33c9102",
   "metadata": {},
   "outputs": [],
   "source": [
    "rgfdata=rgfdata[\"D\"].value_counts(dropna=False)\n"
   ]
  },
  {
   "cell_type": "code",
   "execution_count": null,
   "id": "b11ad728",
   "metadata": {},
   "outputs": [],
   "source": [
    "print(len(rgfdata[\"D\"]))"
   ]
  },
  {
   "cell_type": "code",
   "execution_count": null,
   "id": "6692c157",
   "metadata": {},
   "outputs": [],
   "source": [
    "rgfdata"
   ]
  },
  {
   "cell_type": "code",
   "execution_count": null,
   "id": "d76adb0f",
   "metadata": {},
   "outputs": [],
   "source": []
  },
  {
   "cell_type": "code",
   "execution_count": null,
   "id": "240d9dbe",
   "metadata": {},
   "outputs": [],
   "source": []
  },
  {
   "cell_type": "code",
   "execution_count": null,
   "id": "93d8a2d6",
   "metadata": {},
   "outputs": [],
   "source": []
  },
  {
   "cell_type": "code",
   "execution_count": null,
   "id": "da0dd814",
   "metadata": {},
   "outputs": [],
   "source": []
  },
  {
   "cell_type": "code",
   "execution_count": null,
   "id": "656f1bc7",
   "metadata": {},
   "outputs": [],
   "source": []
  },
  {
   "cell_type": "code",
   "execution_count": null,
   "id": "14d6bc00",
   "metadata": {},
   "outputs": [],
   "source": []
  },
  {
   "cell_type": "code",
   "execution_count": null,
   "id": "1aafa928",
   "metadata": {},
   "outputs": [],
   "source": []
  },
  {
   "cell_type": "code",
   "execution_count": null,
   "id": "d9cfac1c",
   "metadata": {},
   "outputs": [],
   "source": []
  },
  {
   "cell_type": "code",
   "execution_count": null,
   "id": "c26ac897",
   "metadata": {},
   "outputs": [],
   "source": []
  },
  {
   "cell_type": "code",
   "execution_count": null,
   "id": "140e7450",
   "metadata": {},
   "outputs": [],
   "source": []
  },
  {
   "cell_type": "code",
   "execution_count": null,
   "id": "c5916e5f",
   "metadata": {},
   "outputs": [],
   "source": []
  },
  {
   "cell_type": "code",
   "execution_count": null,
   "id": "04b08830",
   "metadata": {},
   "outputs": [],
   "source": []
  },
  {
   "cell_type": "code",
   "execution_count": null,
   "id": "47d942f8",
   "metadata": {},
   "outputs": [],
   "source": []
  },
  {
   "cell_type": "code",
   "execution_count": null,
   "id": "7465dbb3",
   "metadata": {},
   "outputs": [],
   "source": []
  },
  {
   "cell_type": "code",
   "execution_count": null,
   "id": "34f79bdc",
   "metadata": {},
   "outputs": [],
   "source": []
  },
  {
   "cell_type": "code",
   "execution_count": null,
   "id": "428144ac",
   "metadata": {},
   "outputs": [],
   "source": []
  },
  {
   "cell_type": "code",
   "execution_count": null,
   "id": "4202b479",
   "metadata": {},
   "outputs": [],
   "source": []
  },
  {
   "cell_type": "code",
   "execution_count": null,
   "id": "421f452b",
   "metadata": {},
   "outputs": [],
   "source": []
  },
  {
   "cell_type": "code",
   "execution_count": null,
   "id": "b3e173d1",
   "metadata": {},
   "outputs": [],
   "source": []
  },
  {
   "cell_type": "code",
   "execution_count": null,
   "id": "35ad8ff0",
   "metadata": {},
   "outputs": [],
   "source": []
  }
 ],
 "metadata": {
  "kernelspec": {
   "display_name": "Python 3 (ipykernel)",
   "language": "python",
   "name": "python3"
  },
  "language_info": {
   "codemirror_mode": {
    "name": "ipython",
    "version": 3
   },
   "file_extension": ".py",
   "mimetype": "text/x-python",
   "name": "python",
   "nbconvert_exporter": "python",
   "pygments_lexer": "ipython3",
   "version": "3.10.10"
  }
 },
 "nbformat": 4,
 "nbformat_minor": 5
}
