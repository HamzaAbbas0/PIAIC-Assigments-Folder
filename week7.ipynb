{
 "cells": [
  {
   "cell_type": "markdown",
   "id": "ccf6883e",
   "metadata": {},
   "source": [
    "# Chapter 59"
   ]
  },
  {
   "cell_type": "code",
   "execution_count": 11,
   "id": "0824adc1",
   "metadata": {},
   "outputs": [
    {
     "name": "stdout",
     "output_type": "stream",
     "text": [
      "hamzaAbbas is not minor\n",
      "hamza\n"
     ]
    }
   ],
   "source": [
    "class Patient():\n",
    "    def __init__(self,first_name,last_name,age):\n",
    "        self.first_name = first_name\n",
    "        self.last_name = last_name\n",
    "        self.age =  age \n",
    "        \n",
    "    def get_fullname(self):\n",
    "        full_name = self.first_name + \"\" + self.last_name\n",
    "        return full_name\n",
    "        \n",
    "    def is_minor(self):\n",
    "        ret_value = \"not minor\"\n",
    "        if self.age <21:\n",
    "            ret_value =\"minor\"\n",
    "            \n",
    "        ret_value = self.get_fullname() +\" \"+\"is\"  + \" \"+ ret_value\n",
    "#         print(ret_value)\n",
    "        return ret_value\n",
    "    \n",
    "def main():\n",
    "    patient1 =Patient(\"hamza\",\"Abbas\",35)\n",
    "    a=patient1.is_minor()\n",
    "    print(a)\n",
    "    print(patient1.first_name)\n",
    "main()\n",
    "\n",
    "            \n",
    "        \n",
    "            \n",
    "        \n",
    "        \n"
   ]
  },
  {
   "cell_type": "code",
   "execution_count": null,
   "id": "09c787d8",
   "metadata": {},
   "outputs": [],
   "source": [
    "patient1.is_minor()"
   ]
  },
  {
   "cell_type": "markdown",
   "id": "5aff6f87",
   "metadata": {},
   "source": [
    "# chapter-62 Data-Files\n",
    "\n",
    "in sequential access we need line spreator <br>\n",
    "in random access we need to find the length of the line to find the value"
   ]
  },
  {
   "cell_type": "code",
   "execution_count": 13,
   "id": "fc84b8ad",
   "metadata": {},
   "outputs": [],
   "source": [
    "with open(\"whatever.txt\", \"w\") as file_to_work_with:    #file_to_work_with is a file handler\n",
    "    file_to_work_with.write(\"welcome to artifical intelligence class of sir anees\")\n",
    "    # file will be automatically closed here"
   ]
  },
  {
   "cell_type": "code",
   "execution_count": null,
   "id": "b3de0e8f",
   "metadata": {},
   "outputs": [],
   "source": []
  }
 ],
 "metadata": {
  "kernelspec": {
   "display_name": "Python 3 (ipykernel)",
   "language": "python",
   "name": "python3"
  },
  "language_info": {
   "codemirror_mode": {
    "name": "ipython",
    "version": 3
   },
   "file_extension": ".py",
   "mimetype": "text/x-python",
   "name": "python",
   "nbconvert_exporter": "python",
   "pygments_lexer": "ipython3",
   "version": "3.9.12"
  }
 },
 "nbformat": 4,
 "nbformat_minor": 5
}
